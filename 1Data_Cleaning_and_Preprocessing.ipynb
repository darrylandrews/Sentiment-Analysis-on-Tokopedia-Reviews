{
  "nbformat": 4,
  "nbformat_minor": 0,
  "metadata": {
    "colab": {
      "name": "Data Cleaning and Preprocessing.ipynb",
      "provenance": []
    },
    "kernelspec": {
      "name": "python3",
      "display_name": "Python 3"
    },
    "language_info": {
      "name": "python"
    }
  },
  "cells": [
    {
      "cell_type": "markdown",
      "source": [
        "# Spec Check Test"
      ],
      "metadata": {
        "id": "sf2wlWMBWuVy"
      }
    },
    {
      "cell_type": "code",
      "source": [
        "!python --version"
      ],
      "metadata": {
        "id": "o1Na0SOZ4DHS",
        "outputId": "2776b338-0407-4f10-8b28-d5d18355ce11",
        "colab": {
          "base_uri": "https://localhost:8080/"
        }
      },
      "execution_count": null,
      "outputs": [
        {
          "output_type": "stream",
          "name": "stdout",
          "text": [
            "Python 3.7.13\n"
          ]
        }
      ]
    },
    {
      "cell_type": "code",
      "source": [
        "from psutil import *"
      ],
      "metadata": {
        "id": "LZHDgm8SWNgd"
      },
      "execution_count": null,
      "outputs": []
    },
    {
      "cell_type": "code",
      "source": [
        "cpu_count() #Display Number of CPU's"
      ],
      "metadata": {
        "colab": {
          "base_uri": "https://localhost:8080/"
        },
        "id": "Z1-jplfRWSHW",
        "outputId": "907ee5ea-5477-4e4e-c571-a2f460acf85e"
      },
      "execution_count": null,
      "outputs": [
        {
          "output_type": "execute_result",
          "data": {
            "text/plain": [
              "2"
            ]
          },
          "metadata": {},
          "execution_count": 2
        }
      ]
    },
    {
      "cell_type": "code",
      "source": [
        "cpu_stats()"
      ],
      "metadata": {
        "colab": {
          "base_uri": "https://localhost:8080/"
        },
        "id": "zOXsP3C5WUk_",
        "outputId": "2fac0273-9140-44d5-b942-2e098fac20a0"
      },
      "execution_count": null,
      "outputs": [
        {
          "output_type": "execute_result",
          "data": {
            "text/plain": [
              "scpustats(ctx_switches=1741226, interrupts=1399664, soft_interrupts=1233136, syscalls=0)"
            ]
          },
          "metadata": {},
          "execution_count": 3
        }
      ]
    },
    {
      "cell_type": "code",
      "source": [
        "!cat /proc/cpuinfo"
      ],
      "metadata": {
        "colab": {
          "base_uri": "https://localhost:8080/"
        },
        "id": "SCrFriCQVCWg",
        "outputId": "ef928503-f298-4a62-e068-a6c38d4125e6"
      },
      "execution_count": null,
      "outputs": [
        {
          "output_type": "stream",
          "name": "stdout",
          "text": [
            "processor\t: 0\n",
            "vendor_id\t: GenuineIntel\n",
            "cpu family\t: 6\n",
            "model\t\t: 79\n",
            "model name\t: Intel(R) Xeon(R) CPU @ 2.20GHz\n",
            "stepping\t: 0\n",
            "microcode\t: 0x1\n",
            "cpu MHz\t\t: 2199.998\n",
            "cache size\t: 56320 KB\n",
            "physical id\t: 0\n",
            "siblings\t: 2\n",
            "core id\t\t: 0\n",
            "cpu cores\t: 1\n",
            "apicid\t\t: 0\n",
            "initial apicid\t: 0\n",
            "fpu\t\t: yes\n",
            "fpu_exception\t: yes\n",
            "cpuid level\t: 13\n",
            "wp\t\t: yes\n",
            "flags\t\t: fpu vme de pse tsc msr pae mce cx8 apic sep mtrr pge mca cmov pat pse36 clflush mmx fxsr sse sse2 ss ht syscall nx pdpe1gb rdtscp lm constant_tsc rep_good nopl xtopology nonstop_tsc cpuid tsc_known_freq pni pclmulqdq ssse3 fma cx16 pcid sse4_1 sse4_2 x2apic movbe popcnt aes xsave avx f16c rdrand hypervisor lahf_lm abm 3dnowprefetch invpcid_single ssbd ibrs ibpb stibp fsgsbase tsc_adjust bmi1 hle avx2 smep bmi2 erms invpcid rtm rdseed adx smap xsaveopt arat md_clear arch_capabilities\n",
            "bugs\t\t: cpu_meltdown spectre_v1 spectre_v2 spec_store_bypass l1tf mds swapgs taa\n",
            "bogomips\t: 4399.99\n",
            "clflush size\t: 64\n",
            "cache_alignment\t: 64\n",
            "address sizes\t: 46 bits physical, 48 bits virtual\n",
            "power management:\n",
            "\n",
            "processor\t: 1\n",
            "vendor_id\t: GenuineIntel\n",
            "cpu family\t: 6\n",
            "model\t\t: 79\n",
            "model name\t: Intel(R) Xeon(R) CPU @ 2.20GHz\n",
            "stepping\t: 0\n",
            "microcode\t: 0x1\n",
            "cpu MHz\t\t: 2199.998\n",
            "cache size\t: 56320 KB\n",
            "physical id\t: 0\n",
            "siblings\t: 2\n",
            "core id\t\t: 0\n",
            "cpu cores\t: 1\n",
            "apicid\t\t: 1\n",
            "initial apicid\t: 1\n",
            "fpu\t\t: yes\n",
            "fpu_exception\t: yes\n",
            "cpuid level\t: 13\n",
            "wp\t\t: yes\n",
            "flags\t\t: fpu vme de pse tsc msr pae mce cx8 apic sep mtrr pge mca cmov pat pse36 clflush mmx fxsr sse sse2 ss ht syscall nx pdpe1gb rdtscp lm constant_tsc rep_good nopl xtopology nonstop_tsc cpuid tsc_known_freq pni pclmulqdq ssse3 fma cx16 pcid sse4_1 sse4_2 x2apic movbe popcnt aes xsave avx f16c rdrand hypervisor lahf_lm abm 3dnowprefetch invpcid_single ssbd ibrs ibpb stibp fsgsbase tsc_adjust bmi1 hle avx2 smep bmi2 erms invpcid rtm rdseed adx smap xsaveopt arat md_clear arch_capabilities\n",
            "bugs\t\t: cpu_meltdown spectre_v1 spectre_v2 spec_store_bypass l1tf mds swapgs taa\n",
            "bogomips\t: 4399.99\n",
            "clflush size\t: 64\n",
            "cache_alignment\t: 64\n",
            "address sizes\t: 46 bits physical, 48 bits virtual\n",
            "power management:\n",
            "\n"
          ]
        }
      ]
    },
    {
      "cell_type": "code",
      "source": [
        "!df -h"
      ],
      "metadata": {
        "colab": {
          "base_uri": "https://localhost:8080/"
        },
        "id": "X55TzPxpWZCY",
        "outputId": "856942d9-6b6d-409a-ee88-1df1f49bce5b"
      },
      "execution_count": null,
      "outputs": [
        {
          "output_type": "stream",
          "name": "stdout",
          "text": [
            "Filesystem      Size  Used Avail Use% Mounted on\n",
            "overlay         108G   39G   70G  36% /\n",
            "tmpfs            64M     0   64M   0% /dev\n",
            "shm             5.8G     0  5.8G   0% /dev/shm\n",
            "/dev/root       2.0G  1.2G  812M  59% /sbin/docker-init\n",
            "tmpfs           6.4G   40K  6.4G   1% /var/colab\n",
            "/dev/sda1        81G   43G   39G  53% /etc/hosts\n",
            "tmpfs           6.4G     0  6.4G   0% /proc/acpi\n",
            "tmpfs           6.4G     0  6.4G   0% /proc/scsi\n",
            "tmpfs           6.4G     0  6.4G   0% /sys/firmware\n",
            "drive            15G  4.4M   15G   1% /content/drive\n"
          ]
        }
      ]
    },
    {
      "cell_type": "code",
      "source": [
        "virtual_memory()"
      ],
      "metadata": {
        "colab": {
          "base_uri": "https://localhost:8080/"
        },
        "id": "ZuH6A3QUWfEr",
        "outputId": "6eb91e0a-2f9a-40f2-cd44-8c0d88c46916"
      },
      "execution_count": null,
      "outputs": [
        {
          "output_type": "execute_result",
          "data": {
            "text/plain": [
              "svmem(total=13617745920, available=12753747968, percent=6.3, used=615706624, free=10705526784, active=1121636352, inactive=1587695616, buffers=119861248, cached=2176651264, shared=1236992, slab=146276352)"
            ]
          },
          "metadata": {},
          "execution_count": 6
        }
      ]
    },
    {
      "cell_type": "markdown",
      "source": [
        "# Initializing\n",
        "\n"
      ],
      "metadata": {
        "id": "zMUcL9Gw_dUP"
      }
    },
    {
      "cell_type": "markdown",
      "source": [
        "Importing Files from Gdrive"
      ],
      "metadata": {
        "id": "PU1wKCo3AAyP"
      }
    },
    {
      "cell_type": "code",
      "execution_count": null,
      "metadata": {
        "colab": {
          "base_uri": "https://localhost:8080/"
        },
        "id": "y94Psi20-_8U",
        "outputId": "8e11f8e8-11d4-4263-f614-b55064daf6aa"
      },
      "outputs": [
        {
          "output_type": "stream",
          "name": "stdout",
          "text": [
            "Mounted at /content/drive\n"
          ]
        }
      ],
      "source": [
        "from google.colab import drive\n",
        "drive.mount('/content/drive')   # To access gdrive files"
      ]
    },
    {
      "cell_type": "markdown",
      "source": [
        "Download necessary libraries"
      ],
      "metadata": {
        "id": "3RcJzcTGAGa1"
      }
    },
    {
      "cell_type": "code",
      "source": [
        "%%time\n",
        "!pip install Sastrawi                         # Sastrawi for stemming Indonesia sentences\n",
        "\n",
        "import nltk                                   # Natural Language Toolkit \n",
        "nltk.download('punkt')                        # NLTK word and sentence tokenizer"
      ],
      "metadata": {
        "colab": {
          "base_uri": "https://localhost:8080/"
        },
        "id": "wQAMoknM_iNd",
        "outputId": "b673e1f4-0e09-4f0c-bca7-1b10fb2e0ed7"
      },
      "execution_count": null,
      "outputs": [
        {
          "output_type": "stream",
          "name": "stdout",
          "text": [
            "Looking in indexes: https://pypi.org/simple, https://us-python.pkg.dev/colab-wheels/public/simple/\n",
            "Collecting Sastrawi\n",
            "  Downloading Sastrawi-1.0.1-py2.py3-none-any.whl (209 kB)\n",
            "\u001b[K     |████████████████████████████████| 209 kB 8.9 MB/s \n",
            "\u001b[?25hInstalling collected packages: Sastrawi\n",
            "Successfully installed Sastrawi-1.0.1\n",
            "[nltk_data] Downloading package punkt to /root/nltk_data...\n",
            "[nltk_data]   Unzipping tokenizers/punkt.zip.\n",
            "CPU times: user 1.15 s, sys: 340 ms, total: 1.49 s\n",
            "Wall time: 7.75 s\n"
          ]
        }
      ]
    },
    {
      "cell_type": "markdown",
      "source": [
        "Import the necessary libraries"
      ],
      "metadata": {
        "id": "ffdSK9dqAeDf"
      }
    },
    {
      "cell_type": "code",
      "source": [
        "import pandas as pd\n",
        "import numpy as np\n",
        "\n",
        "from Sastrawi.Stemmer.StemmerFactory import StemmerFactory\n",
        "from nltk import word_tokenize\n",
        "from google.colab import files\n",
        "\n",
        "import warnings\n",
        "warnings.simplefilter(action='ignore', category=FutureWarning)"
      ],
      "metadata": {
        "id": "UYO7EZwxAdHv"
      },
      "execution_count": null,
      "outputs": []
    },
    {
      "cell_type": "markdown",
      "source": [
        "Initializing Dataset"
      ],
      "metadata": {
        "id": "yreVGALAAvIR"
      }
    },
    {
      "cell_type": "code",
      "source": [
        "slang = pd.read_csv('/content/drive/MyDrive/Combined_Slang_Dictionary.csv')\n",
        "dataset = pd.read_csv('/content/drive/MyDrive/NewTokopediaDataset - Sheet1.csv')"
      ],
      "metadata": {
        "id": "xVIvbRFFAyoS"
      },
      "execution_count": null,
      "outputs": []
    },
    {
      "cell_type": "markdown",
      "source": [
        "Dataset Information"
      ],
      "metadata": {
        "id": "Cc-iSKT-Bsg4"
      }
    },
    {
      "cell_type": "code",
      "source": [
        "def check_dataset_information():\n",
        "  print('Total reviews: ' + str(len(dataset)))\n",
        "  print('Dataset Columns: ')\n",
        "  for columns in  dataset.columns:\n",
        "    print('- ' + columns)\n",
        "  print('Number of NULL dataset: ')\n",
        "  print(str(dataset.isnull().sum()))\n",
        "\n",
        "  print()\n",
        "\n",
        "  print('Total slang words: ' + str(len(slang)))\n",
        "  print('Slang Columns: ')\n",
        "  for columns in  slang.columns:\n",
        "    print('- ' + columns)\n",
        "  print('Number of NULL slang: ')\n",
        "  print(str(slang.isnull().sum()))"
      ],
      "metadata": {
        "id": "WfyWAAw7BUtf"
      },
      "execution_count": null,
      "outputs": []
    },
    {
      "cell_type": "code",
      "source": [
        "check_dataset_information()"
      ],
      "metadata": {
        "colab": {
          "base_uri": "https://localhost:8080/"
        },
        "id": "BAMdaCG_C_wf",
        "outputId": "530e0654-8637-4115-ec82-d57f1bfcda9b"
      },
      "execution_count": null,
      "outputs": [
        {
          "output_type": "stream",
          "name": "stdout",
          "text": [
            "Total reviews: 5400\n",
            "Dataset Columns: \n",
            "- Category\n",
            "- Product Name\n",
            "- Seller\n",
            "- Location\n",
            "- Price\n",
            "- Overall Rating\n",
            "- Number Sold\n",
            "- Total Reviews\n",
            "- Link\n",
            "- Customer Rating\n",
            "- Review\n",
            "- Emotion\n",
            "- Sentiment\n",
            "Number of NULL dataset: \n",
            "Category            0\n",
            "Product Name       12\n",
            "Seller             13\n",
            "Location            0\n",
            "Price               0\n",
            "Overall Rating      0\n",
            "Number Sold         0\n",
            "Total Reviews       0\n",
            "Link                0\n",
            "Customer Rating     0\n",
            "Review              0\n",
            "Emotion             2\n",
            "Sentiment           0\n",
            "dtype: int64\n",
            "\n",
            "Total slang words: 15729\n",
            "Slang Columns: \n",
            "- Unnamed: 0\n",
            "- Before\n",
            "- After\n",
            "Number of NULL slang: \n",
            "Unnamed: 0    0\n",
            "Before        0\n",
            "After         0\n",
            "dtype: int64\n"
          ]
        }
      ]
    },
    {
      "cell_type": "markdown",
      "source": [
        "Removing Unnecessary Columns"
      ],
      "metadata": {
        "id": "Qxp9tCkHCtUl"
      }
    },
    {
      "cell_type": "code",
      "source": [
        "useless_columns = ['Category', 'Product Name', 'Seller', 'Location', 'Price', 'Overall Rating', 'Number Sold', 'Total Reviews', 'Link', 'Customer Rating', 'Emotion']\n",
        "dataset = dataset.drop(useless_columns, 1)\n",
        "\n",
        "slang = slang.drop('Unnamed: 0', 1)"
      ],
      "metadata": {
        "id": "ROIjB2xhCs0c"
      },
      "execution_count": null,
      "outputs": []
    },
    {
      "cell_type": "code",
      "source": [
        "check_dataset_information()"
      ],
      "metadata": {
        "colab": {
          "base_uri": "https://localhost:8080/"
        },
        "id": "JegHEe0MDxcV",
        "outputId": "225ba457-b1d5-4682-c445-46d599a3c12a"
      },
      "execution_count": null,
      "outputs": [
        {
          "output_type": "stream",
          "name": "stdout",
          "text": [
            "Total reviews: 5400\n",
            "Dataset Columns: \n",
            "- Review\n",
            "- Sentiment\n",
            "Number of NULL dataset: \n",
            "Review       0\n",
            "Sentiment    0\n",
            "dtype: int64\n",
            "\n",
            "Total slang words: 15729\n",
            "Slang Columns: \n",
            "- Before\n",
            "- After\n",
            "Number of NULL slang: \n",
            "Before    0\n",
            "After     0\n",
            "dtype: int64\n"
          ]
        }
      ]
    },
    {
      "cell_type": "markdown",
      "source": [
        "# Data Cleaning"
      ],
      "metadata": {
        "id": "vV5RZoXWAq5S"
      }
    },
    {
      "cell_type": "markdown",
      "source": [
        "Replace Slang Words function"
      ],
      "metadata": {
        "id": "orbGNAK3L7ee"
      }
    },
    {
      "cell_type": "code",
      "source": [
        "dataset.at[40, 'Review']"
      ],
      "metadata": {
        "colab": {
          "base_uri": "https://localhost:8080/",
          "height": 35
        },
        "id": "aZDe8Bw9Kemk",
        "outputId": "17adc99c-4acc-4b38-b0ea-8e44727e729f"
      },
      "execution_count": null,
      "outputs": [
        {
          "output_type": "execute_result",
          "data": {
            "text/plain": [
              "'Sangat kecewa. Baru 4 bulan scroll sudah rusak.'"
            ],
            "application/vnd.google.colaboratory.intrinsic+json": {
              "type": "string"
            }
          },
          "metadata": {},
          "execution_count": 9
        }
      ]
    },
    {
      "cell_type": "code",
      "source": [
        "dataset.at[843, 'Review']"
      ],
      "metadata": {
        "colab": {
          "base_uri": "https://localhost:8080/",
          "height": 53
        },
        "id": "nnfq98SwK76R",
        "outputId": "14d2eebd-edc1-41eb-cf8c-cd9499dedbb1"
      },
      "execution_count": null,
      "outputs": [
        {
          "output_type": "execute_result",
          "data": {
            "text/plain": [
              "'Td nya sy request utk cancel mo ganti p’byran nya pake gopay dr ovo td nya krn ada cash back, tp nggak dicancel sm toko tetap diproses aja. Sgt m’ngecewakan.'"
            ],
            "application/vnd.google.colaboratory.intrinsic+json": {
              "type": "string"
            }
          },
          "metadata": {},
          "execution_count": 10
        }
      ]
    },
    {
      "cell_type": "code",
      "source": [
        "dataset.at[4000, 'Review']"
      ],
      "metadata": {
        "colab": {
          "base_uri": "https://localhost:8080/",
          "height": 35
        },
        "id": "8aeBKcEOLS7x",
        "outputId": "57ece4ad-bed5-4ce8-f6ec-7ffc30d42f83"
      },
      "execution_count": null,
      "outputs": [
        {
          "output_type": "execute_result",
          "data": {
            "text/plain": [
              "'packing tdk dikemas dan asal kirim lgsung pdhal kondisi dusnya sudah rusak. mgkin karena harga barangnya murah Rp.25.000. jd tdk dikemas rapih.'"
            ],
            "application/vnd.google.colaboratory.intrinsic+json": {
              "type": "string"
            }
          },
          "metadata": {},
          "execution_count": 11
        }
      ]
    },
    {
      "cell_type": "code",
      "source": [
        "dataset.at[5321, 'Review']"
      ],
      "metadata": {
        "colab": {
          "base_uri": "https://localhost:8080/",
          "height": 35
        },
        "id": "3trZ8i2tLjgy",
        "outputId": "c87cbfad-d94f-49d4-fc95-20ef0deed83f"
      },
      "execution_count": null,
      "outputs": [
        {
          "output_type": "execute_result",
          "data": {
            "text/plain": [
              "'Bersih dari debu, sekali jalan, bagus... dan pengiriman ok sih rapi dlm box'"
            ],
            "application/vnd.google.colaboratory.intrinsic+json": {
              "type": "string"
            }
          },
          "metadata": {},
          "execution_count": 12
        }
      ]
    },
    {
      "cell_type": "code",
      "source": [
        "dataset.at[316, 'Review']"
      ],
      "metadata": {
        "colab": {
          "base_uri": "https://localhost:8080/",
          "height": 53
        },
        "id": "3BCy1uZVL1_K",
        "outputId": "188359bc-13d7-4e4d-90c3-5c4fb9406658"
      },
      "execution_count": null,
      "outputs": [
        {
          "output_type": "execute_result",
          "data": {
            "text/plain": [
              "'Proses kemas/kirim LAMA, seller ditanya hanya jawab MOHON SABAR, MOHON TUNGGU. Tidak kasih kepastian kapan kirim. Hrs nya dijawab BISA / TIDAK. End up barang di pickup sendiri ke gudang kurir krn perlu.'"
            ],
            "application/vnd.google.colaboratory.intrinsic+json": {
              "type": "string"
            }
          },
          "metadata": {},
          "execution_count": 13
        }
      ]
    },
    {
      "cell_type": "code",
      "source": [
        "def slang_cleaning():\n",
        "  for i, review in enumerate(dataset['Review']):\n",
        "    temp = \"\"\n",
        "    tokenized = word_tokenize(review)                               # Split the words\n",
        "\n",
        "    for j, word in enumerate(tokenized):\n",
        "      flag = word in slang['Before'].values                         # Check if the value is a slang word\n",
        "\n",
        "      if flag == True:\n",
        "        slang_index = slang[slang['Before'] == word].index.values   # Getting the index of the slang word\n",
        "        word = slang.at[slang_index[0], 'After']                    # Replacing the slang word with the correct word\n",
        "        \n",
        "      temp = temp + word + \" \"                                      # Concatenate all the split words into a sentence\n",
        "    \n",
        "    dataset.at[i, 'Review'] = temp      \n",
        "\n",
        "  new_sentence = str(dataset.at[843, 'Review'])                            "
      ],
      "metadata": {
        "id": "jA2WgOrYKZfP"
      },
      "execution_count": null,
      "outputs": []
    },
    {
      "cell_type": "markdown",
      "source": [
        "Cleaning"
      ],
      "metadata": {
        "id": "T56nTaLyHElt"
      }
    },
    {
      "cell_type": "code",
      "source": [
        "%%time\n",
        "\n",
        "original_sentence = str(dataset.at[843, 'Review'])\n",
        "print('Original:                  ' + original_sentence)\n",
        "\n",
        "# Lower case the reviews\n",
        "dataset['Review'] = dataset['Review'].str.lower()                 \n",
        "new_sentence = str(dataset.at[843, 'Review'])\n",
        "print('Lower Cased:               ' + new_sentence)\n",
        "\n",
        "# Replacing slang words\n",
        "slang_cleaning()                                                  \n",
        "new_sentence = str(dataset.at[843, 'Review'])\n",
        "print('Replace Slang:             ' + new_sentence)\n",
        "\n",
        "# Removing numbers\n",
        "dataset['Review'] = dataset['Review'].str.replace(r'\\d+','')      \n",
        "new_sentence = str(dataset.at[843, 'Review'])\n",
        "print('Removed Numbers:           ' + new_sentence)\n",
        "\n",
        "# Removing symbols\n",
        "dataset['Review'] = dataset['Review'].str.replace(r'[^\\w\\s]','')  \n",
        "new_sentence = str(dataset.at[843, 'Review'])\n",
        "print('Removed Symbols:           ' + new_sentence)\n",
        "\n",
        "# Removing extra whitespace\n",
        "dataset['Review'] = dataset['Review'].str.replace(r'\\s{2,}',' ')  \n",
        "new_sentence = str(dataset.at[843, 'Review'])\n",
        "print('Removed Extra Whitespace:  ' + new_sentence)"
      ],
      "metadata": {
        "colab": {
          "base_uri": "https://localhost:8080/"
        },
        "id": "cneA4sY5Ap0v",
        "outputId": "546b45aa-7ec3-40ba-ea64-8ae330292751"
      },
      "execution_count": null,
      "outputs": [
        {
          "output_type": "stream",
          "name": "stdout",
          "text": [
            "Original:                  Td nya sy request utk cancel mo ganti p’byran nya pake gopay dr ovo td nya krn ada cash back, tp nggak dicancel sm toko tetap diproses aja. Sgt m’ngecewakan.\n",
            "Lower Cased:               td nya sy request utk cancel mo ganti p’byran nya pake gopay dr ovo td nya krn ada cash back, tp nggak dicancel sm toko tetap diproses aja. sgt m’ngecewakan.\n",
            "Replace Slang:             tadi dia saya request untuk cancel mau ganti p ’ byran dia pakai gopay dari  ovo tadi dia karena ada cash back , tapi tidak dicancel sama  toko tetap diproses saja . sangat sama ’ ngecewakan . \n",
            "Removed Numbers:           tadi dia saya request untuk cancel mau ganti p ’ byran dia pakai gopay dari  ovo tadi dia karena ada cash back , tapi tidak dicancel sama  toko tetap diproses saja . sangat sama ’ ngecewakan . \n",
            "Removed Symbols:           tadi dia saya request untuk cancel mau ganti p  byran dia pakai gopay dari  ovo tadi dia karena ada cash back  tapi tidak dicancel sama  toko tetap diproses saja  sangat sama  ngecewakan  \n",
            "Removed Extra Whitespace:  tadi dia saya request untuk cancel mau ganti p byran dia pakai gopay dari ovo tadi dia karena ada cash back tapi tidak dicancel sama toko tetap diproses saja sangat sama ngecewakan \n",
            "CPU times: user 1min 5s, sys: 1.34 s, total: 1min 7s\n",
            "Wall time: 1min 11s\n"
          ]
        }
      ]
    },
    {
      "cell_type": "code",
      "source": [
        "chosen_one = [40, 843, 4000, 5321, 316]"
      ],
      "metadata": {
        "id": "oLSUY49wMOPH"
      },
      "execution_count": null,
      "outputs": []
    },
    {
      "cell_type": "code",
      "source": [
        "for i in range(5):\n",
        "  print(dataset.at[chosen_one[i], 'Review'])"
      ],
      "metadata": {
        "colab": {
          "base_uri": "https://localhost:8080/"
        },
        "id": "QNBg1DaeMlBO",
        "outputId": "9ddb72ad-ae76-46b9-cc95-8eb55d7ba1a4"
      },
      "execution_count": null,
      "outputs": [
        {
          "output_type": "stream",
          "name": "stdout",
          "text": [
            "sangat kecewa baru bulan scroll sudah rusak \n",
            "tadi dia saya request untuk cancel mau ganti p byran dia pakai gopay dari ovo tadi dia karena ada cash back tapi tidak dicancel sama toko tetap diproses saja sangat sama ngecewakan \n",
            "packing tidak dikemas dan asal kirim langsung padahal kondisi dusnya sudah rusak mungkin karena harga barangnya murah rp jadi tidak dikemas rapi \n",
            "bersih dari debu sekali jalan bagus dan pengiriman ok sih rapi dalam box \n",
            "proses kemaskirim lama seller ditanya hanya jawab mohon sabar mohon tunggu tidak kasih kepastian kapan kirim harus dia dijawab bisa tidak end up barang di pickup sendiri ke gudang kurir karena perlu \n"
          ]
        }
      ]
    },
    {
      "cell_type": "code",
      "source": [
        "check_dataset_information()"
      ],
      "metadata": {
        "colab": {
          "base_uri": "https://localhost:8080/"
        },
        "id": "lxQMY9sWB-Zd",
        "outputId": "8d7a4a0d-82c4-4acc-cfdd-706ae72bbebb"
      },
      "execution_count": null,
      "outputs": [
        {
          "output_type": "stream",
          "name": "stdout",
          "text": [
            "Total reviews: 5400\n",
            "Dataset Columns: \n",
            "- Review\n",
            "- Sentiment\n",
            "Number of NULL dataset: \n",
            "Review       0\n",
            "Sentiment    0\n",
            "dtype: int64\n",
            "\n",
            "Total slang words: 15729\n",
            "Slang Columns: \n",
            "- Before\n",
            "- After\n",
            "Number of NULL slang: \n",
            "Before    0\n",
            "After     0\n",
            "dtype: int64\n"
          ]
        }
      ]
    },
    {
      "cell_type": "markdown",
      "source": [
        "# Preprocessing"
      ],
      "metadata": {
        "id": "XA1841yIPfEk"
      }
    },
    {
      "cell_type": "markdown",
      "source": [
        "Initialize Preprocessing Variables"
      ],
      "metadata": {
        "id": "U--GFKsePoFJ"
      }
    },
    {
      "cell_type": "code",
      "source": [
        "stopwords_id = pd.read_csv('/content/drive/MyDrive/stopwords-id.txt',delimiter='\\n')\n",
        "\n",
        "factory = StemmerFactory()\n",
        "stemmer = factory.create_stemmer()"
      ],
      "metadata": {
        "id": "Z6rnsLG-Phbh"
      },
      "execution_count": null,
      "outputs": []
    },
    {
      "cell_type": "markdown",
      "source": [
        "Stopword + Stemming"
      ],
      "metadata": {
        "id": "0Bx9p1D6Q_fK"
      }
    },
    {
      "cell_type": "code",
      "source": [
        "%%time\n",
        "for i, sentence in enumerate(dataset['Review']):\n",
        "  temp = \"\"\n",
        "  tokenized = word_tokenize(sentence)               # Split the sentence\n",
        "\n",
        "  for j, word in enumerate(tokenized):\n",
        "    if word in stopwords_id['Stopwords'].values:    # Removing stop-words\n",
        "      continue\n",
        "    else:\n",
        "        temp = temp + word + \" \"\n",
        "\n",
        "  if temp == \"\":\n",
        "    temp = sentence\n",
        "  \n",
        "  dataset.at[i,'Review'] = stemmer.stem(temp)       # Stemming the sentence\n",
        "\n",
        "final_sentence = str(dataset.at[843, 'Review'])"
      ],
      "metadata": {
        "id": "B4OBmDpTP6rS",
        "colab": {
          "base_uri": "https://localhost:8080/"
        },
        "outputId": "1285b7bd-7b5c-4124-a231-f7146c7dcd90"
      },
      "execution_count": null,
      "outputs": [
        {
          "output_type": "stream",
          "name": "stdout",
          "text": [
            "CPU times: user 12min 31s, sys: 2.67 s, total: 12min 33s\n",
            "Wall time: 12min 36s\n"
          ]
        }
      ]
    },
    {
      "cell_type": "code",
      "source": [
        "for i in range(5):\n",
        "  print(dataset.at[chosen_one[i], 'Review'])"
      ],
      "metadata": {
        "colab": {
          "base_uri": "https://localhost:8080/"
        },
        "id": "fRFBY-YrO1hQ",
        "outputId": "04a5470c-7bf9-43f9-cea9-5c5e8246fc35"
      },
      "execution_count": null,
      "outputs": [
        {
          "output_type": "stream",
          "name": "stdout",
          "text": [
            "kecewa scroll rusak\n",
            "request cancel ganti p byran pakai gopay ovo cash back dicancel toko proses ngecewakan\n",
            "packing kemas kirim dus rusak harga barang murah rp kemas rapi\n",
            "bersih debu bagus kirim sih rapi box\n",
            "kemaskirim seller mohon sabar mohon tunggu kasih pasti kirim end up pickup gudang kurir\n"
          ]
        }
      ]
    },
    {
      "cell_type": "code",
      "source": [
        "print('Before preprocessing:  ' + new_sentence)\n",
        "print('After preprocessing:   ' + final_sentence)"
      ],
      "metadata": {
        "id": "7016KOMmQhLi",
        "colab": {
          "base_uri": "https://localhost:8080/"
        },
        "outputId": "5e8f6add-a087-451c-ea93-e56f975a1d7e"
      },
      "execution_count": null,
      "outputs": [
        {
          "output_type": "stream",
          "name": "stdout",
          "text": [
            "Before preprocessing:  tadi dia saya request untuk cancel mau ganti p byran dia pakai gopay dari ovo tadi dia karena ada cash back tapi tidak dicancel sama toko tetap diproses saja sangat sama ngecewakan \n",
            "After preprocessing:   request cancel ganti p byran pakai gopay ovo cash back dicancel toko proses ngecewakan\n"
          ]
        }
      ]
    },
    {
      "cell_type": "code",
      "source": [
        "check_dataset_information()"
      ],
      "metadata": {
        "id": "Ru-elPQYTsmV",
        "colab": {
          "base_uri": "https://localhost:8080/"
        },
        "outputId": "d7d5dc43-2e2c-4faf-d76d-e4a707748eca"
      },
      "execution_count": null,
      "outputs": [
        {
          "output_type": "stream",
          "name": "stdout",
          "text": [
            "Total reviews: 5400\n",
            "Dataset Columns: \n",
            "- Review\n",
            "- Sentiment\n",
            "Number of NULL dataset: \n",
            "Review       0\n",
            "Sentiment    0\n",
            "dtype: int64\n",
            "\n",
            "Total slang words: 15729\n",
            "Slang Columns: \n",
            "- Before\n",
            "- After\n",
            "Number of NULL slang: \n",
            "Before    0\n",
            "After     0\n",
            "dtype: int64\n"
          ]
        }
      ]
    },
    {
      "cell_type": "markdown",
      "source": [
        "# Downloading the Cleaned Dataset"
      ],
      "metadata": {
        "id": "z4mzX_WJQ4Ix"
      }
    },
    {
      "cell_type": "code",
      "source": [
        "dataset.to_csv(r'TokopediaCleanedStemmedFIXED.csv')\n",
        "files.download('TokopediaCleanedStemmedFIXED.csv')"
      ],
      "metadata": {
        "id": "HVtWQzH8Q-I-",
        "colab": {
          "base_uri": "https://localhost:8080/",
          "height": 17
        },
        "outputId": "49350070-8369-4b73-c6a4-0ea6774dc84b"
      },
      "execution_count": null,
      "outputs": [
        {
          "output_type": "display_data",
          "data": {
            "text/plain": [
              "<IPython.core.display.Javascript object>"
            ],
            "application/javascript": [
              "\n",
              "    async function download(id, filename, size) {\n",
              "      if (!google.colab.kernel.accessAllowed) {\n",
              "        return;\n",
              "      }\n",
              "      const div = document.createElement('div');\n",
              "      const label = document.createElement('label');\n",
              "      label.textContent = `Downloading \"${filename}\": `;\n",
              "      div.appendChild(label);\n",
              "      const progress = document.createElement('progress');\n",
              "      progress.max = size;\n",
              "      div.appendChild(progress);\n",
              "      document.body.appendChild(div);\n",
              "\n",
              "      const buffers = [];\n",
              "      let downloaded = 0;\n",
              "\n",
              "      const channel = await google.colab.kernel.comms.open(id);\n",
              "      // Send a message to notify the kernel that we're ready.\n",
              "      channel.send({})\n",
              "\n",
              "      for await (const message of channel.messages) {\n",
              "        // Send a message to notify the kernel that we're ready.\n",
              "        channel.send({})\n",
              "        if (message.buffers) {\n",
              "          for (const buffer of message.buffers) {\n",
              "            buffers.push(buffer);\n",
              "            downloaded += buffer.byteLength;\n",
              "            progress.value = downloaded;\n",
              "          }\n",
              "        }\n",
              "      }\n",
              "      const blob = new Blob(buffers, {type: 'application/binary'});\n",
              "      const a = document.createElement('a');\n",
              "      a.href = window.URL.createObjectURL(blob);\n",
              "      a.download = filename;\n",
              "      div.appendChild(a);\n",
              "      a.click();\n",
              "      div.remove();\n",
              "    }\n",
              "  "
            ]
          },
          "metadata": {}
        },
        {
          "output_type": "display_data",
          "data": {
            "text/plain": [
              "<IPython.core.display.Javascript object>"
            ],
            "application/javascript": [
              "download(\"download_66f3148f-d67b-4d33-a56f-1ffb5ef29e72\", \"TokopediaCleanedStemmedFIXED.csv\", 376853)"
            ]
          },
          "metadata": {}
        }
      ]
    }
  ]
}