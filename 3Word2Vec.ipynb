{
  "nbformat": 4,
  "nbformat_minor": 0,
  "metadata": {
    "colab": {
      "name": "Word2Vec.ipynb",
      "provenance": []
    },
    "kernelspec": {
      "name": "python3",
      "display_name": "Python 3"
    },
    "language_info": {
      "name": "python"
    }
  },
  "cells": [
    {
      "cell_type": "markdown",
      "source": [
        "# Initializing"
      ],
      "metadata": {
        "id": "carog_KuJpw_"
      }
    },
    {
      "cell_type": "markdown",
      "source": [
        "Importing Files from Gdrive"
      ],
      "metadata": {
        "id": "VBKKAgXQJyHL"
      }
    },
    {
      "cell_type": "code",
      "execution_count": 1,
      "metadata": {
        "colab": {
          "base_uri": "https://localhost:8080/"
        },
        "id": "fq8xqI8VJWB1",
        "outputId": "266fad6f-f088-4581-b971-4cc41c520088"
      },
      "outputs": [
        {
          "output_type": "stream",
          "name": "stdout",
          "text": [
            "Mounted at /content/drive\n"
          ]
        }
      ],
      "source": [
        "from google.colab import drive\n",
        "drive.mount('/content/drive')   # To access gdrive files"
      ]
    },
    {
      "cell_type": "markdown",
      "source": [
        "Download necessary libraries"
      ],
      "metadata": {
        "id": "a53XIRMnJ6ZD"
      }
    },
    {
      "cell_type": "code",
      "source": [
        "import nltk\n",
        "nltk.download('punkt')\n",
        "nltk.download('averaged_perceptron_tagger')"
      ],
      "metadata": {
        "colab": {
          "base_uri": "https://localhost:8080/"
        },
        "id": "CFr4zs0PJ_zM",
        "outputId": "ad7c0bf6-94dc-4174-9e53-081d53451716"
      },
      "execution_count": 2,
      "outputs": [
        {
          "output_type": "stream",
          "name": "stdout",
          "text": [
            "[nltk_data] Downloading package punkt to /root/nltk_data...\n",
            "[nltk_data]   Unzipping tokenizers/punkt.zip.\n",
            "[nltk_data] Downloading package averaged_perceptron_tagger to\n",
            "[nltk_data]     /root/nltk_data...\n",
            "[nltk_data]   Unzipping taggers/averaged_perceptron_tagger.zip.\n"
          ]
        },
        {
          "output_type": "execute_result",
          "data": {
            "text/plain": [
              "True"
            ]
          },
          "metadata": {},
          "execution_count": 2
        }
      ]
    },
    {
      "cell_type": "markdown",
      "source": [
        "Import the necessary libraries"
      ],
      "metadata": {
        "id": "mQNeb8QzJ3Lq"
      }
    },
    {
      "cell_type": "code",
      "source": [
        "import numpy as np\n",
        "import pandas as pd\n",
        "import matplotlib.pyplot as plt\n",
        "\n",
        "from sklearn.feature_extraction.text import TfidfVectorizer\n",
        "from sklearn import model_selection\n",
        "from sklearn.metrics import classification_report\n",
        "from sklearn.metrics import plot_confusion_matrix\n",
        "from sklearn.pipeline import make_pipeline\n",
        "from sklearn.preprocessing import StandardScaler\n",
        "\n",
        "from sklearn.linear_model import LogisticRegression\n",
        "from sklearn.svm import SVC\n",
        "\n",
        "from gensim.models import Word2Vec\n",
        "\n",
        "from nltk import sent_tokenize, word_tokenize\n",
        "\n",
        "import warnings\n",
        "warnings.simplefilter(action='ignore', category=FutureWarning)\n",
        "warnings.simplefilter(action='ignore', category=DeprecationWarning)"
      ],
      "metadata": {
        "id": "q1wqfQDkJ4my"
      },
      "execution_count": 3,
      "outputs": []
    },
    {
      "cell_type": "markdown",
      "source": [
        "Initializing Dataset"
      ],
      "metadata": {
        "id": "0865Jr3eKbOo"
      }
    },
    {
      "cell_type": "code",
      "source": [
        "dataset = pd.read_csv('/content/drive/MyDrive/TokopediaCleanedStemmedFIXED.csv')"
      ],
      "metadata": {
        "id": "1SS4__3QKcFl"
      },
      "execution_count": 4,
      "outputs": []
    },
    {
      "cell_type": "markdown",
      "source": [
        "Dataset Information"
      ],
      "metadata": {
        "id": "AHKjruj5KoMX"
      }
    },
    {
      "cell_type": "code",
      "source": [
        "def check_dataset_information():\n",
        "  print('Total reviews: ' + str(len(dataset)))\n",
        "  print('Dataset Columns: ')\n",
        "  for columns in  dataset.columns:\n",
        "    print('- ' + columns)\n",
        "  print('Number of NULL dataset: ')\n",
        "  print(str(dataset.isnull().sum()))\n",
        "  print(dataset['Sentiment'].value_counts())"
      ],
      "metadata": {
        "id": "PkgXEt-9KnTw"
      },
      "execution_count": 5,
      "outputs": []
    },
    {
      "cell_type": "code",
      "source": [
        "check_dataset_information()"
      ],
      "metadata": {
        "colab": {
          "base_uri": "https://localhost:8080/"
        },
        "id": "YpZNxF4wKr6b",
        "outputId": "a07d95dd-3446-4c63-9d58-f59ec7d30419"
      },
      "execution_count": 6,
      "outputs": [
        {
          "output_type": "stream",
          "name": "stdout",
          "text": [
            "Total reviews: 5400\n",
            "Dataset Columns: \n",
            "- Unnamed: 0\n",
            "- Unnamed: 0.1\n",
            "- Review\n",
            "- Sentiment\n",
            "Number of NULL dataset: \n",
            "Unnamed: 0      0\n",
            "Unnamed: 0.1    0\n",
            "Review          0\n",
            "Sentiment       0\n",
            "dtype: int64\n",
            "Negative    2820\n",
            "Positive    2580\n",
            "Name: Sentiment, dtype: int64\n"
          ]
        }
      ]
    },
    {
      "cell_type": "markdown",
      "source": [
        "Removing Unnecessary Columns"
      ],
      "metadata": {
        "id": "6-TGYHxkKv1Y"
      }
    },
    {
      "cell_type": "code",
      "source": [
        "useless_columns = ['Unnamed: 0', 'Unnamed: 0.1']\n",
        "dataset = dataset.drop(useless_columns, 1)\n",
        "check_dataset_information()"
      ],
      "metadata": {
        "colab": {
          "base_uri": "https://localhost:8080/"
        },
        "id": "lkMRcvRoKvM8",
        "outputId": "cc173a97-e7aa-4fff-f234-285ddacd24d7"
      },
      "execution_count": 7,
      "outputs": [
        {
          "output_type": "stream",
          "name": "stdout",
          "text": [
            "Total reviews: 5400\n",
            "Dataset Columns: \n",
            "- Review\n",
            "- Sentiment\n",
            "Number of NULL dataset: \n",
            "Review       0\n",
            "Sentiment    0\n",
            "dtype: int64\n",
            "Negative    2820\n",
            "Positive    2580\n",
            "Name: Sentiment, dtype: int64\n"
          ]
        }
      ]
    },
    {
      "cell_type": "markdown",
      "source": [
        "# Creating the corpus"
      ],
      "metadata": {
        "id": "tm-_Aw4SLE6Q"
      }
    },
    {
      "cell_type": "code",
      "source": [
        "total_words = []\n",
        "\n",
        "for sentence in dataset['Review']:\n",
        "  temp = [] \n",
        "  tokenized = word_tokenize(sentence)   # Splits the review into individual words\n",
        "\n",
        "  for word in tokenized:\n",
        "    temp.append(word)                   # Turns it into an array\n",
        "\n",
        "  total_words.append(temp)              # Turns it into a 2D array"
      ],
      "metadata": {
        "id": "VIfR-gTJLNtu"
      },
      "execution_count": 8,
      "outputs": []
    },
    {
      "cell_type": "markdown",
      "source": [
        "# Word2Vec - CBOW\n"
      ],
      "metadata": {
        "id": "uGG9P6yWK13X"
      }
    },
    {
      "cell_type": "code",
      "source": [
        "cbow_model = Word2Vec(total_words, min_count=1, size=200, sg=0) # sg = 0 => CBOW"
      ],
      "metadata": {
        "id": "8qF4_qu7K8tc"
      },
      "execution_count": 9,
      "outputs": []
    },
    {
      "cell_type": "code",
      "source": [
        "print(cbow_model)"
      ],
      "metadata": {
        "colab": {
          "base_uri": "https://localhost:8080/"
        },
        "id": "dqmtWHVhMDBd",
        "outputId": "e0c6df54-b9fc-438b-c801-86b4649bbeb0"
      },
      "execution_count": 10,
      "outputs": [
        {
          "output_type": "stream",
          "name": "stdout",
          "text": [
            "Word2Vec(vocab=6034, size=200, alpha=0.025)\n"
          ]
        }
      ]
    },
    {
      "cell_type": "code",
      "source": [
        "cbow_model.wv.get_vector(\"barang\")"
      ],
      "metadata": {
        "colab": {
          "base_uri": "https://localhost:8080/"
        },
        "id": "5PRMWv2aWa1B",
        "outputId": "f5d727a5-aed7-425f-d110-ab4ce7e593ba"
      },
      "execution_count": 11,
      "outputs": [
        {
          "output_type": "execute_result",
          "data": {
            "text/plain": [
              "array([ 0.27101126,  0.33902657,  0.3515071 ,  0.24596286, -0.03073958,\n",
              "       -0.06918799, -0.32009724, -0.38781333, -0.09851182, -0.3565419 ,\n",
              "       -0.14764042,  0.23412608,  0.11833547,  0.08483721, -0.03132285,\n",
              "       -0.05353836,  0.25326398, -0.02576289, -0.41783488, -0.11595163,\n",
              "        0.265397  , -0.43478882,  0.5132547 , -0.19834363, -0.14367345,\n",
              "        0.10111279, -0.07304954, -0.03530989,  0.1214283 , -0.2013152 ,\n",
              "        0.11480301,  0.06908395,  0.05565493, -0.0252299 ,  0.17398003,\n",
              "        0.17880055,  0.2074535 ,  0.13918583, -0.03530077,  0.33865678,\n",
              "        0.2021485 ,  0.04005962, -0.339783  , -0.08329713,  0.16701186,\n",
              "       -0.33555838,  0.21778895, -0.17987758,  0.01662042, -0.05330983,\n",
              "       -0.04503904,  0.13774699,  0.28141746, -0.06073493, -0.07158051,\n",
              "        0.16568597, -0.1264956 , -0.168994  ,  0.5175913 ,  0.26296273,\n",
              "        0.20190951,  0.2964898 ,  0.1265137 ,  0.22842619,  0.09460569,\n",
              "       -0.28357807, -0.31809065, -0.2741977 , -0.19366328, -0.453995  ,\n",
              "        0.50971115,  0.03230037,  0.25599667,  0.0771817 ,  0.00646016,\n",
              "       -0.4581467 ,  0.2205499 ,  0.1992827 , -0.2914144 , -0.5076976 ,\n",
              "       -0.24194668, -0.2897829 , -0.06796668, -0.04387371, -0.18221346,\n",
              "        0.08843701,  0.17707607, -0.06954896,  0.38030165,  0.1557681 ,\n",
              "       -0.19031194,  0.22138432, -0.30071563, -0.19180018,  0.291084  ,\n",
              "       -0.15054592,  0.31641814, -0.32094634,  0.07733916,  0.12659164,\n",
              "       -0.05875947,  0.15401132, -0.09161052, -0.3138581 ,  0.16103195,\n",
              "       -0.24290997, -0.13340224, -0.05829275,  0.2123996 , -0.08001974,\n",
              "        0.21668944, -0.01296365, -0.3335889 , -0.09627289, -0.07791089,\n",
              "        0.03856066,  0.01709109, -0.12936445,  0.21926929,  0.36473727,\n",
              "       -0.18434334,  0.10561909,  0.2291835 ,  0.1662365 , -0.34771734,\n",
              "        0.08894525, -0.23082344,  0.05393107, -0.1515863 , -0.2010273 ,\n",
              "       -0.05042089,  0.11223281,  0.12107521,  0.22012103,  0.1770317 ,\n",
              "        0.19076945,  0.01891564, -0.62347144, -0.54185057, -0.31886467,\n",
              "        0.2645845 , -0.00882546, -0.23621486, -0.22986512, -0.00507794,\n",
              "        0.16136661, -0.00137619, -0.4368771 ,  0.13507505,  0.48451427,\n",
              "       -0.13474679, -0.11085741, -0.16645978,  0.01999625, -0.25637525,\n",
              "       -0.13793707, -0.22444777,  0.08662734,  0.3838546 , -0.09956302,\n",
              "       -0.0303699 , -0.01463143, -0.2627646 , -0.18861721,  0.3471114 ,\n",
              "        0.18057966,  0.28569978,  0.02817993, -0.12008795, -0.11358128,\n",
              "        0.355602  , -0.30309495,  0.13425256, -0.12358022,  0.16195822,\n",
              "       -0.10990852, -0.44609645,  0.46741205, -0.08741435, -0.3411772 ,\n",
              "        0.16563673,  0.04527631, -0.11872069,  0.05197088, -0.24476165,\n",
              "       -0.30879483, -0.03039541, -0.03128968, -0.19286625, -0.3222253 ,\n",
              "       -0.2950658 ,  0.32126525,  0.0262661 ,  0.18416098,  0.00478872,\n",
              "        0.29954392, -0.23420903,  0.1301309 ,  0.3655449 ,  0.3502673 ],\n",
              "      dtype=float32)"
            ]
          },
          "metadata": {},
          "execution_count": 11
        }
      ]
    },
    {
      "cell_type": "code",
      "source": [
        "cbow_model.wv.most_similar(\"barang\")"
      ],
      "metadata": {
        "colab": {
          "base_uri": "https://localhost:8080/"
        },
        "id": "NcsQ8PulMPl7",
        "outputId": "2de429f4-ac2f-42a1-cce0-37fe4c2e3c55"
      },
      "execution_count": 12,
      "outputs": [
        {
          "output_type": "execute_result",
          "data": {
            "text/plain": [
              "[('banget', 0.9999599456787109),\n",
              " ('mantap', 0.9999522566795349),\n",
              " ('sayang', 0.9999514222145081),\n",
              " ('kayak', 0.9999502301216125),\n",
              " ('pas', 0.9999495148658752),\n",
              " ('foto', 0.9999493360519409),\n",
              " ('coba', 0.9999489784240723),\n",
              " ('order', 0.9999489188194275),\n",
              " ('fungsi', 0.9999488592147827),\n",
              " ('main', 0.9999486804008484)]"
            ]
          },
          "metadata": {},
          "execution_count": 12
        }
      ]
    },
    {
      "cell_type": "markdown",
      "source": [
        "Getting the average weight of each review"
      ],
      "metadata": {
        "id": "DbATkgBBNxXz"
      }
    },
    {
      "cell_type": "code",
      "source": [
        "dataset['CBOW_Vector'] = ''     # Creating a new column for the vector of the sentence\n",
        "\n",
        "for i, sentence in enumerate(total_words):\n",
        "  result_cbow = np.mean(cbow_model[sentence], axis=0)   # Getting the average weight of every word in the sentence\n",
        "\n",
        "  dataset.at[i, 'CBOW_Vector'] = result_cbow\n",
        "\n",
        "dataset.head(3)"
      ],
      "metadata": {
        "colab": {
          "base_uri": "https://localhost:8080/",
          "height": 143
        },
        "id": "VXG6clzmMbFl",
        "outputId": "59b1b412-68ff-4af4-d229-b77c528ddeed"
      },
      "execution_count": 13,
      "outputs": [
        {
          "output_type": "execute_result",
          "data": {
            "text/plain": [
              "                                              Review Sentiment  \\\n",
              "0  alhamdulillah fungsi packaging aman respon cep...  Positive   \n",
              "1                     bagus respon cepat harga saing  Positive   \n",
              "2               bagus fungsi seler ramah kirim cepat  Positive   \n",
              "\n",
              "                                         CBOW_Vector  \n",
              "0  [0.24412672, 0.3053858, 0.31725416, 0.22196841...  \n",
              "1  [0.24338767, 0.30671293, 0.31690058, 0.2235398...  \n",
              "2  [0.26488748, 0.33392945, 0.34541798, 0.2415915...  "
            ],
            "text/html": [
              "\n",
              "  <div id=\"df-aedabd6e-3ab2-4c68-b19a-2e61027876bc\">\n",
              "    <div class=\"colab-df-container\">\n",
              "      <div>\n",
              "<style scoped>\n",
              "    .dataframe tbody tr th:only-of-type {\n",
              "        vertical-align: middle;\n",
              "    }\n",
              "\n",
              "    .dataframe tbody tr th {\n",
              "        vertical-align: top;\n",
              "    }\n",
              "\n",
              "    .dataframe thead th {\n",
              "        text-align: right;\n",
              "    }\n",
              "</style>\n",
              "<table border=\"1\" class=\"dataframe\">\n",
              "  <thead>\n",
              "    <tr style=\"text-align: right;\">\n",
              "      <th></th>\n",
              "      <th>Review</th>\n",
              "      <th>Sentiment</th>\n",
              "      <th>CBOW_Vector</th>\n",
              "    </tr>\n",
              "  </thead>\n",
              "  <tbody>\n",
              "    <tr>\n",
              "      <th>0</th>\n",
              "      <td>alhamdulillah fungsi packaging aman respon cep...</td>\n",
              "      <td>Positive</td>\n",
              "      <td>[0.24412672, 0.3053858, 0.31725416, 0.22196841...</td>\n",
              "    </tr>\n",
              "    <tr>\n",
              "      <th>1</th>\n",
              "      <td>bagus respon cepat harga saing</td>\n",
              "      <td>Positive</td>\n",
              "      <td>[0.24338767, 0.30671293, 0.31690058, 0.2235398...</td>\n",
              "    </tr>\n",
              "    <tr>\n",
              "      <th>2</th>\n",
              "      <td>bagus fungsi seler ramah kirim cepat</td>\n",
              "      <td>Positive</td>\n",
              "      <td>[0.26488748, 0.33392945, 0.34541798, 0.2415915...</td>\n",
              "    </tr>\n",
              "  </tbody>\n",
              "</table>\n",
              "</div>\n",
              "      <button class=\"colab-df-convert\" onclick=\"convertToInteractive('df-aedabd6e-3ab2-4c68-b19a-2e61027876bc')\"\n",
              "              title=\"Convert this dataframe to an interactive table.\"\n",
              "              style=\"display:none;\">\n",
              "        \n",
              "  <svg xmlns=\"http://www.w3.org/2000/svg\" height=\"24px\"viewBox=\"0 0 24 24\"\n",
              "       width=\"24px\">\n",
              "    <path d=\"M0 0h24v24H0V0z\" fill=\"none\"/>\n",
              "    <path d=\"M18.56 5.44l.94 2.06.94-2.06 2.06-.94-2.06-.94-.94-2.06-.94 2.06-2.06.94zm-11 1L8.5 8.5l.94-2.06 2.06-.94-2.06-.94L8.5 2.5l-.94 2.06-2.06.94zm10 10l.94 2.06.94-2.06 2.06-.94-2.06-.94-.94-2.06-.94 2.06-2.06.94z\"/><path d=\"M17.41 7.96l-1.37-1.37c-.4-.4-.92-.59-1.43-.59-.52 0-1.04.2-1.43.59L10.3 9.45l-7.72 7.72c-.78.78-.78 2.05 0 2.83L4 21.41c.39.39.9.59 1.41.59.51 0 1.02-.2 1.41-.59l7.78-7.78 2.81-2.81c.8-.78.8-2.07 0-2.86zM5.41 20L4 18.59l7.72-7.72 1.47 1.35L5.41 20z\"/>\n",
              "  </svg>\n",
              "      </button>\n",
              "      \n",
              "  <style>\n",
              "    .colab-df-container {\n",
              "      display:flex;\n",
              "      flex-wrap:wrap;\n",
              "      gap: 12px;\n",
              "    }\n",
              "\n",
              "    .colab-df-convert {\n",
              "      background-color: #E8F0FE;\n",
              "      border: none;\n",
              "      border-radius: 50%;\n",
              "      cursor: pointer;\n",
              "      display: none;\n",
              "      fill: #1967D2;\n",
              "      height: 32px;\n",
              "      padding: 0 0 0 0;\n",
              "      width: 32px;\n",
              "    }\n",
              "\n",
              "    .colab-df-convert:hover {\n",
              "      background-color: #E2EBFA;\n",
              "      box-shadow: 0px 1px 2px rgba(60, 64, 67, 0.3), 0px 1px 3px 1px rgba(60, 64, 67, 0.15);\n",
              "      fill: #174EA6;\n",
              "    }\n",
              "\n",
              "    [theme=dark] .colab-df-convert {\n",
              "      background-color: #3B4455;\n",
              "      fill: #D2E3FC;\n",
              "    }\n",
              "\n",
              "    [theme=dark] .colab-df-convert:hover {\n",
              "      background-color: #434B5C;\n",
              "      box-shadow: 0px 1px 3px 1px rgba(0, 0, 0, 0.15);\n",
              "      filter: drop-shadow(0px 1px 2px rgba(0, 0, 0, 0.3));\n",
              "      fill: #FFFFFF;\n",
              "    }\n",
              "  </style>\n",
              "\n",
              "      <script>\n",
              "        const buttonEl =\n",
              "          document.querySelector('#df-aedabd6e-3ab2-4c68-b19a-2e61027876bc button.colab-df-convert');\n",
              "        buttonEl.style.display =\n",
              "          google.colab.kernel.accessAllowed ? 'block' : 'none';\n",
              "\n",
              "        async function convertToInteractive(key) {\n",
              "          const element = document.querySelector('#df-aedabd6e-3ab2-4c68-b19a-2e61027876bc');\n",
              "          const dataTable =\n",
              "            await google.colab.kernel.invokeFunction('convertToInteractive',\n",
              "                                                     [key], {});\n",
              "          if (!dataTable) return;\n",
              "\n",
              "          const docLinkHtml = 'Like what you see? Visit the ' +\n",
              "            '<a target=\"_blank\" href=https://colab.research.google.com/notebooks/data_table.ipynb>data table notebook</a>'\n",
              "            + ' to learn more about interactive tables.';\n",
              "          element.innerHTML = '';\n",
              "          dataTable['output_type'] = 'display_data';\n",
              "          await google.colab.output.renderOutput(dataTable, element);\n",
              "          const docLink = document.createElement('div');\n",
              "          docLink.innerHTML = docLinkHtml;\n",
              "          element.appendChild(docLink);\n",
              "        }\n",
              "      </script>\n",
              "    </div>\n",
              "  </div>\n",
              "  "
            ]
          },
          "metadata": {},
          "execution_count": 13
        }
      ]
    },
    {
      "cell_type": "markdown",
      "source": [
        "Reshaping the data"
      ],
      "metadata": {
        "id": "4mIxKSbzSCUC"
      }
    },
    {
      "cell_type": "code",
      "source": [
        "y_cbow = dataset['Sentiment']\n",
        "\n",
        "x_cbow = dataset['CBOW_Vector'].to_numpy()\n",
        "print(x_cbow.shape)"
      ],
      "metadata": {
        "colab": {
          "base_uri": "https://localhost:8080/"
        },
        "id": "PhaCFo6yNwJ4",
        "outputId": "8057e246-6fb3-4d2f-a19a-1f3376860f40"
      },
      "execution_count": 14,
      "outputs": [
        {
          "output_type": "stream",
          "name": "stdout",
          "text": [
            "(5400,)\n"
          ]
        }
      ]
    },
    {
      "cell_type": "code",
      "source": [
        "x_cbow[0]"
      ],
      "metadata": {
        "colab": {
          "base_uri": "https://localhost:8080/"
        },
        "id": "ylsJekFSZT_v",
        "outputId": "daf33e81-0934-49f2-de00-f3c02f33d4b2"
      },
      "execution_count": 15,
      "outputs": [
        {
          "output_type": "execute_result",
          "data": {
            "text/plain": [
              "array([ 0.24412672,  0.3053858 ,  0.31725416,  0.22196841, -0.02502161,\n",
              "       -0.06391252, -0.29065245, -0.3460092 , -0.0883064 , -0.3247029 ,\n",
              "       -0.13656065,  0.21277264,  0.10323755,  0.07656057, -0.02826563,\n",
              "       -0.05038274,  0.2284135 , -0.02012217, -0.37516576, -0.10501304,\n",
              "        0.23730452, -0.39058903,  0.462112  , -0.1753143 , -0.12826315,\n",
              "        0.09320396, -0.06193719, -0.02947778,  0.11163343, -0.18284681,\n",
              "        0.10034982,  0.0639276 ,  0.04986231, -0.02073587,  0.15404797,\n",
              "        0.1588476 ,  0.18548094,  0.12767255, -0.03069908,  0.30317718,\n",
              "        0.18052682,  0.03868086, -0.3083296 , -0.07944362,  0.15127316,\n",
              "       -0.3003574 ,  0.1926479 , -0.16326475,  0.01505643, -0.0440663 ,\n",
              "       -0.04160564,  0.1285009 ,  0.25368547, -0.05321915, -0.06316257,\n",
              "        0.15257405, -0.11029851, -0.14997986,  0.46783328,  0.23909602,\n",
              "        0.18898398,  0.26835996,  0.11073852,  0.20484884,  0.08805355,\n",
              "       -0.25247163, -0.2910344 , -0.24717455, -0.17006016, -0.40893117,\n",
              "        0.46200332,  0.02984333,  0.23371065,  0.07565303,  0.00929224,\n",
              "       -0.41271463,  0.19583437,  0.17292199, -0.2607042 , -0.4577535 ,\n",
              "       -0.21525732, -0.25649965, -0.06249269, -0.03763705, -0.16645452,\n",
              "        0.08166078,  0.16048002, -0.06228819,  0.33974522,  0.13679054,\n",
              "       -0.16547151,  0.19819327, -0.27404702, -0.17267968,  0.26324534,\n",
              "       -0.13176847,  0.2825661 , -0.28889352,  0.06602342,  0.11038116,\n",
              "       -0.0505654 ,  0.13648264, -0.08067079, -0.28181472,  0.13937634,\n",
              "       -0.21938916, -0.11483777, -0.0506522 ,  0.1907601 , -0.07064466,\n",
              "        0.19543996, -0.01269275, -0.30123013, -0.08655122, -0.06863836,\n",
              "        0.03373693,  0.01591152, -0.11766081,  0.19944745,  0.3290441 ,\n",
              "       -0.1731912 ,  0.10138106,  0.20053121,  0.14907774, -0.31298298,\n",
              "        0.08263846, -0.20673573,  0.04596568, -0.13766055, -0.18179241,\n",
              "       -0.04456335,  0.09766192,  0.10452466,  0.19860202,  0.15929937,\n",
              "        0.17363927,  0.01366885, -0.5590968 , -0.48531193, -0.28736764,\n",
              "        0.2399282 , -0.0067345 , -0.21097776, -0.20575133, -0.00632696,\n",
              "        0.13973802,  0.00181149, -0.3942966 ,  0.11918942,  0.43477535,\n",
              "       -0.12063147, -0.09379973, -0.15517414,  0.02120453, -0.22628471,\n",
              "       -0.13014212, -0.20456815,  0.08165164,  0.34713295, -0.09405659,\n",
              "       -0.02677873, -0.00795861, -0.2365962 , -0.1689683 ,  0.31154054,\n",
              "        0.16188982,  0.25551292,  0.02648413, -0.10647465, -0.10056279,\n",
              "        0.3217977 , -0.2751099 ,  0.1180381 , -0.11496625,  0.14367321,\n",
              "       -0.09604701, -0.40657362,  0.42171526, -0.0790749 , -0.30549288,\n",
              "        0.14753853,  0.04153741, -0.10730104,  0.04741351, -0.22200194,\n",
              "       -0.2792263 , -0.03014903, -0.028827  , -0.17807098, -0.28726792,\n",
              "       -0.2669005 ,  0.2892172 ,  0.02885428,  0.16224357,  0.00731578,\n",
              "        0.2695821 , -0.21252711,  0.11256937,  0.32971036,  0.31776458],\n",
              "      dtype=float32)"
            ]
          },
          "metadata": {},
          "execution_count": 15
        }
      ]
    },
    {
      "cell_type": "code",
      "source": [
        "x_cbow = x_cbow.reshape(-1, 1)\n",
        "print(x_cbow.shape)\n",
        "x_cbow[0][0]"
      ],
      "metadata": {
        "colab": {
          "base_uri": "https://localhost:8080/"
        },
        "id": "V9-dB-hOZOaH",
        "outputId": "4d1f8384-33d6-4851-a92a-644b158e7477"
      },
      "execution_count": 16,
      "outputs": [
        {
          "output_type": "stream",
          "name": "stdout",
          "text": [
            "(5400, 1)\n"
          ]
        },
        {
          "output_type": "execute_result",
          "data": {
            "text/plain": [
              "array([ 0.24412672,  0.3053858 ,  0.31725416,  0.22196841, -0.02502161,\n",
              "       -0.06391252, -0.29065245, -0.3460092 , -0.0883064 , -0.3247029 ,\n",
              "       -0.13656065,  0.21277264,  0.10323755,  0.07656057, -0.02826563,\n",
              "       -0.05038274,  0.2284135 , -0.02012217, -0.37516576, -0.10501304,\n",
              "        0.23730452, -0.39058903,  0.462112  , -0.1753143 , -0.12826315,\n",
              "        0.09320396, -0.06193719, -0.02947778,  0.11163343, -0.18284681,\n",
              "        0.10034982,  0.0639276 ,  0.04986231, -0.02073587,  0.15404797,\n",
              "        0.1588476 ,  0.18548094,  0.12767255, -0.03069908,  0.30317718,\n",
              "        0.18052682,  0.03868086, -0.3083296 , -0.07944362,  0.15127316,\n",
              "       -0.3003574 ,  0.1926479 , -0.16326475,  0.01505643, -0.0440663 ,\n",
              "       -0.04160564,  0.1285009 ,  0.25368547, -0.05321915, -0.06316257,\n",
              "        0.15257405, -0.11029851, -0.14997986,  0.46783328,  0.23909602,\n",
              "        0.18898398,  0.26835996,  0.11073852,  0.20484884,  0.08805355,\n",
              "       -0.25247163, -0.2910344 , -0.24717455, -0.17006016, -0.40893117,\n",
              "        0.46200332,  0.02984333,  0.23371065,  0.07565303,  0.00929224,\n",
              "       -0.41271463,  0.19583437,  0.17292199, -0.2607042 , -0.4577535 ,\n",
              "       -0.21525732, -0.25649965, -0.06249269, -0.03763705, -0.16645452,\n",
              "        0.08166078,  0.16048002, -0.06228819,  0.33974522,  0.13679054,\n",
              "       -0.16547151,  0.19819327, -0.27404702, -0.17267968,  0.26324534,\n",
              "       -0.13176847,  0.2825661 , -0.28889352,  0.06602342,  0.11038116,\n",
              "       -0.0505654 ,  0.13648264, -0.08067079, -0.28181472,  0.13937634,\n",
              "       -0.21938916, -0.11483777, -0.0506522 ,  0.1907601 , -0.07064466,\n",
              "        0.19543996, -0.01269275, -0.30123013, -0.08655122, -0.06863836,\n",
              "        0.03373693,  0.01591152, -0.11766081,  0.19944745,  0.3290441 ,\n",
              "       -0.1731912 ,  0.10138106,  0.20053121,  0.14907774, -0.31298298,\n",
              "        0.08263846, -0.20673573,  0.04596568, -0.13766055, -0.18179241,\n",
              "       -0.04456335,  0.09766192,  0.10452466,  0.19860202,  0.15929937,\n",
              "        0.17363927,  0.01366885, -0.5590968 , -0.48531193, -0.28736764,\n",
              "        0.2399282 , -0.0067345 , -0.21097776, -0.20575133, -0.00632696,\n",
              "        0.13973802,  0.00181149, -0.3942966 ,  0.11918942,  0.43477535,\n",
              "       -0.12063147, -0.09379973, -0.15517414,  0.02120453, -0.22628471,\n",
              "       -0.13014212, -0.20456815,  0.08165164,  0.34713295, -0.09405659,\n",
              "       -0.02677873, -0.00795861, -0.2365962 , -0.1689683 ,  0.31154054,\n",
              "        0.16188982,  0.25551292,  0.02648413, -0.10647465, -0.10056279,\n",
              "        0.3217977 , -0.2751099 ,  0.1180381 , -0.11496625,  0.14367321,\n",
              "       -0.09604701, -0.40657362,  0.42171526, -0.0790749 , -0.30549288,\n",
              "        0.14753853,  0.04153741, -0.10730104,  0.04741351, -0.22200194,\n",
              "       -0.2792263 , -0.03014903, -0.028827  , -0.17807098, -0.28726792,\n",
              "       -0.2669005 ,  0.2892172 ,  0.02885428,  0.16224357,  0.00731578,\n",
              "        0.2695821 , -0.21252711,  0.11256937,  0.32971036,  0.31776458],\n",
              "      dtype=float32)"
            ]
          },
          "metadata": {},
          "execution_count": 16
        }
      ]
    },
    {
      "cell_type": "code",
      "source": [
        "x_cbow = np.concatenate(np.concatenate(x_cbow, axis=0), axis=0).reshape(-1, 200)\n",
        "print(x_cbow.shape)"
      ],
      "metadata": {
        "colab": {
          "base_uri": "https://localhost:8080/"
        },
        "id": "Vz1LrD_4ZgHU",
        "outputId": "bfbef753-19dc-4d14-a71e-567477623add"
      },
      "execution_count": 17,
      "outputs": [
        {
          "output_type": "stream",
          "name": "stdout",
          "text": [
            "(5400, 200)\n"
          ]
        }
      ]
    },
    {
      "cell_type": "code",
      "source": [
        "x_cbow[0][1]"
      ],
      "metadata": {
        "colab": {
          "base_uri": "https://localhost:8080/"
        },
        "id": "u5QnI5lQYCH3",
        "outputId": "d0b884d2-3cf8-4ee6-8987-413dde886ec5"
      },
      "execution_count": 18,
      "outputs": [
        {
          "output_type": "execute_result",
          "data": {
            "text/plain": [
              "0.3053858"
            ]
          },
          "metadata": {},
          "execution_count": 18
        }
      ]
    },
    {
      "cell_type": "code",
      "source": [
        "print(x_cbow)"
      ],
      "metadata": {
        "colab": {
          "base_uri": "https://localhost:8080/"
        },
        "id": "Iny5EQpvQmRg",
        "outputId": "8b4e0cc6-43a1-4467-9e1f-65e5389a4fab"
      },
      "execution_count": 19,
      "outputs": [
        {
          "output_type": "stream",
          "name": "stdout",
          "text": [
            "[[0.24412672 0.3053858  0.31725416 ... 0.11256937 0.32971036 0.31776458]\n",
            " [0.24338767 0.30671293 0.31690058 ... 0.11433335 0.32661885 0.31620485]\n",
            " [0.26488748 0.33392945 0.34541798 ... 0.1230514  0.35694623 0.34405628]\n",
            " ...\n",
            " [0.1473466  0.18569505 0.19117989 ... 0.06945168 0.19997051 0.19130784]\n",
            " [0.13780048 0.17202102 0.17639744 ... 0.06414778 0.18469064 0.1752944 ]\n",
            " [0.26770037 0.33690065 0.34833676 ... 0.12539597 0.36215228 0.34659508]]\n"
          ]
        }
      ]
    },
    {
      "cell_type": "markdown",
      "source": [
        "Splitting the train and test"
      ],
      "metadata": {
        "id": "NeVt4EX8O5f-"
      }
    },
    {
      "cell_type": "code",
      "source": [
        "x_train_cbow, x_test_cbow, y_train_cbow, y_test_cbow = model_selection.train_test_split(x_cbow, y_cbow, test_size=0.2, random_state=100, stratify=y_cbow)"
      ],
      "metadata": {
        "id": "KkNKrP1EOsCR"
      },
      "execution_count": 20,
      "outputs": []
    },
    {
      "cell_type": "code",
      "source": [
        "print('train shape = ' + str(x_train_cbow.shape))\n",
        "print('train sentiment = ')\n",
        "print(str(y_train_cbow.value_counts()))\n",
        "\n",
        "print()\n",
        "\n",
        "print('test shape = ' + str(x_test_cbow.shape))\n",
        "print('test sentiment = ')\n",
        "print(str(y_test_cbow.value_counts()))"
      ],
      "metadata": {
        "colab": {
          "base_uri": "https://localhost:8080/"
        },
        "id": "hvkVzSf8PCtw",
        "outputId": "d401e9bd-bef5-4f23-cbce-95e02a08ee62"
      },
      "execution_count": 21,
      "outputs": [
        {
          "output_type": "stream",
          "name": "stdout",
          "text": [
            "train shape = (4320, 200)\n",
            "train sentiment = \n",
            "Negative    2256\n",
            "Positive    2064\n",
            "Name: Sentiment, dtype: int64\n",
            "\n",
            "test shape = (1080, 200)\n",
            "test sentiment = \n",
            "Negative    564\n",
            "Positive    516\n",
            "Name: Sentiment, dtype: int64\n"
          ]
        }
      ]
    },
    {
      "cell_type": "markdown",
      "source": [
        "## Logistic Regression"
      ],
      "metadata": {
        "id": "0voH9N8iPfoY"
      }
    },
    {
      "cell_type": "code",
      "source": [
        "clf_cbow = LogisticRegression(random_state=0).fit(x_train_cbow, y_train_cbow)\n",
        "clf_cbow.score(x_train_cbow, y_train_cbow)"
      ],
      "metadata": {
        "colab": {
          "base_uri": "https://localhost:8080/"
        },
        "id": "34d0cQNkPika",
        "outputId": "8b9d1eaa-015d-4146-8ddc-beff97b1b8b7"
      },
      "execution_count": 22,
      "outputs": [
        {
          "output_type": "execute_result",
          "data": {
            "text/plain": [
              "0.6756944444444445"
            ]
          },
          "metadata": {},
          "execution_count": 22
        }
      ]
    },
    {
      "cell_type": "code",
      "source": [
        "plot_confusion_matrix(clf_cbow, x_test_cbow, y_test_cbow)  \n",
        "plt.show()"
      ],
      "metadata": {
        "colab": {
          "base_uri": "https://localhost:8080/",
          "height": 279
        },
        "id": "-8cJJyxZo9Zx",
        "outputId": "66aa6454-1e5a-4475-83b7-022b2cf64a4a"
      },
      "execution_count": 23,
      "outputs": [
        {
          "output_type": "display_data",
          "data": {
            "text/plain": [
              "<Figure size 432x288 with 2 Axes>"
            ],
            "image/png": "[encoded data removed]"
          },
          "metadata": {
            "needs_background": "light"
          }
        }
      ]
    },
    {
      "cell_type": "code",
      "source": [
        "prediction_cbow = clf_cbow.predict(x_test_cbow)\n",
        "print(classification_report(y_test_cbow, prediction_cbow))"
      ],
      "metadata": {
        "colab": {
          "base_uri": "https://localhost:8080/"
        },
        "id": "91Alck97PxVj",
        "outputId": "4986f64a-a8e8-4f3a-c6a9-b7413d6ea21c"
      },
      "execution_count": 24,
      "outputs": [
        {
          "output_type": "stream",
          "name": "stdout",
          "text": [
            "              precision    recall  f1-score   support\n",
            "\n",
            "    Negative       0.66      0.77      0.71       564\n",
            "    Positive       0.69      0.56      0.62       516\n",
            "\n",
            "    accuracy                           0.67      1080\n",
            "   macro avg       0.67      0.66      0.66      1080\n",
            "weighted avg       0.67      0.67      0.66      1080\n",
            "\n"
          ]
        }
      ]
    },
    {
      "cell_type": "markdown",
      "source": [
        "### Fine Tuning"
      ],
      "metadata": {
        "id": "cq7kIdZT7jHZ"
      }
    },
    {
      "cell_type": "code",
      "source": [
        "from sklearn.model_selection import GridSearchCV\n",
        "\n",
        "solver_options = ['newton-cg', 'lbfgs', 'liblinear', 'sag', 'saga']\n",
        "multi_class_options = ['auto', 'ovr', 'multinomial']\n",
        "class_weight_options = ['None', 'dict', 'balanced']\n",
        "max_iter_options = [50, 100, 200]\n",
        "\n",
        "param_grid = dict(solver = solver_options, multi_class = multi_class_options, class_weight = class_weight_options, max_iter = max_iter_options)\n",
        "\n",
        "lr = LogisticRegression()             # initialize the model\n",
        "\n",
        "grid = GridSearchCV(lr, param_grid, cv=12, scoring = 'accuracy', )\n",
        "\n",
        "grid.fit(x_train_cbow, y_train_cbow)"
      ],
      "metadata": {
        "id": "NGfvYuA27o4h"
      },
      "execution_count": null,
      "outputs": []
    },
    {
      "cell_type": "code",
      "source": [
        "print(grid.best_estimator_)"
      ],
      "metadata": {
        "colab": {
          "base_uri": "https://localhost:8080/"
        },
        "id": "hbEJd9xz7wGC",
        "outputId": "944734ca-06a7-4e75-c3d1-48ae9b00a6cc"
      },
      "execution_count": 26,
      "outputs": [
        {
          "output_type": "stream",
          "name": "stdout",
          "text": [
            "LogisticRegression(class_weight='balanced', max_iter=50,\n",
            "                   multi_class='multinomial')\n"
          ]
        }
      ]
    },
    {
      "cell_type": "code",
      "source": [
        "print(grid.best_score_)"
      ],
      "metadata": {
        "colab": {
          "base_uri": "https://localhost:8080/"
        },
        "id": "sa-tEMA_7zKQ",
        "outputId": "ec0900ce-9b4d-4052-f598-447618d594c6"
      },
      "execution_count": 27,
      "outputs": [
        {
          "output_type": "stream",
          "name": "stdout",
          "text": [
            "0.7166666666666667\n"
          ]
        }
      ]
    },
    {
      "cell_type": "code",
      "source": [
        "clf_cbow_FT = LogisticRegression(class_weight='balanced', max_iter=50, multi_class='multinomial', solver='newton-cg').fit(x_train_cbow, y_train_cbow)\n",
        "clf_cbow_FT.score(x_train_cbow, y_train_cbow)"
      ],
      "metadata": {
        "colab": {
          "base_uri": "https://localhost:8080/"
        },
        "id": "nTNholwL74BX",
        "outputId": "5cba4be1-84c8-4d4b-aee0-53ff7eff408e"
      },
      "execution_count": 28,
      "outputs": [
        {
          "output_type": "stream",
          "name": "stderr",
          "text": [
            "/usr/local/lib/python3.7/dist-packages/scipy/optimize/linesearch.py:314: LineSearchWarning: The line search algorithm did not converge\n",
            "  warn('The line search algorithm did not converge', LineSearchWarning)\n",
            "/usr/local/lib/python3.7/dist-packages/sklearn/utils/optimize.py:203: UserWarning: Line Search failed\n",
            "  warnings.warn(\"Line Search failed\")\n"
          ]
        },
        {
          "output_type": "execute_result",
          "data": {
            "text/plain": [
              "0.7219907407407408"
            ]
          },
          "metadata": {},
          "execution_count": 28
        }
      ]
    },
    {
      "cell_type": "code",
      "source": [
        "import matplotlib.pyplot as plt\n",
        "from sklearn.metrics import plot_confusion_matrix\n",
        "plot_confusion_matrix(clf_cbow_FT, x_test_cbow, y_test_cbow)  \n",
        "plt.show()"
      ],
      "metadata": {
        "colab": {
          "base_uri": "https://localhost:8080/",
          "height": 279
        },
        "id": "_IUuOjTR8OQ-",
        "outputId": "28d61b23-3d10-42be-a911-2c3d5f07674c"
      },
      "execution_count": 29,
      "outputs": [
        {
          "output_type": "display_data",
          "data": {
            "text/plain": [
              "<Figure size 432x288 with 2 Axes>"
            ],
            "image/png": "[encoded data removed]"
          },
          "metadata": {
            "needs_background": "light"
          }
        }
      ]
    },
    {
      "cell_type": "code",
      "source": [
        "new_prediction_cbow = clf_cbow_FT.predict(x_test_cbow)\n",
        "print(classification_report(y_test_cbow, new_prediction_cbow))"
      ],
      "metadata": {
        "colab": {
          "base_uri": "https://localhost:8080/"
        },
        "id": "rBBiTYKt79Bi",
        "outputId": "088a50e3-a1df-4f34-a663-257900c81137"
      },
      "execution_count": 30,
      "outputs": [
        {
          "output_type": "stream",
          "name": "stdout",
          "text": [
            "              precision    recall  f1-score   support\n",
            "\n",
            "    Negative       0.69      0.74      0.71       564\n",
            "    Positive       0.69      0.65      0.67       516\n",
            "\n",
            "    accuracy                           0.69      1080\n",
            "   macro avg       0.69      0.69      0.69      1080\n",
            "weighted avg       0.69      0.69      0.69      1080\n",
            "\n"
          ]
        }
      ]
    },
    {
      "cell_type": "markdown",
      "source": [
        "## SVM - Support Vector Machine"
      ],
      "metadata": {
        "id": "5of8cjR-QCfa"
      }
    },
    {
      "cell_type": "code",
      "source": [
        "svc_cbow = make_pipeline(StandardScaler(with_mean=False), SVC(gamma='auto'))\n",
        "svc_cbow.fit(x_train_cbow, y_train_cbow)\n",
        "svc_cbow.score(x_train_cbow, y_train_cbow)"
      ],
      "metadata": {
        "colab": {
          "base_uri": "https://localhost:8080/"
        },
        "id": "9nbhMXBRQHSE",
        "outputId": "2b22132e-1b8b-4244-c532-989b8a9ed83c"
      },
      "execution_count": 31,
      "outputs": [
        {
          "output_type": "execute_result",
          "data": {
            "text/plain": [
              "0.8150462962962963"
            ]
          },
          "metadata": {},
          "execution_count": 31
        }
      ]
    },
    {
      "cell_type": "code",
      "source": [
        "plot_confusion_matrix(svc_cbow, x_test_cbow, y_test_cbow)  \n",
        "plt.show()"
      ],
      "metadata": {
        "colab": {
          "base_uri": "https://localhost:8080/",
          "height": 279
        },
        "id": "oWovp9IjpYYH",
        "outputId": "a654a72a-79f3-41da-e293-a557a4ccc7ac"
      },
      "execution_count": 32,
      "outputs": [
        {
          "output_type": "display_data",
          "data": {
            "text/plain": [
              "<Figure size 432x288 with 2 Axes>"
            ],
            "image/png": "[encoded data removed]"
          },
          "metadata": {
            "needs_background": "light"
          }
        }
      ]
    },
    {
      "cell_type": "code",
      "source": [
        "svc_cbow_prediction = svc_cbow.predict(x_test_cbow)\n",
        "print(classification_report(y_test_cbow, svc_cbow_prediction))"
      ],
      "metadata": {
        "colab": {
          "base_uri": "https://localhost:8080/"
        },
        "id": "TPYc26fyQSS1",
        "outputId": "5ecd6a21-cc61-48da-bbb5-6ab3cfef02fe"
      },
      "execution_count": 33,
      "outputs": [
        {
          "output_type": "stream",
          "name": "stdout",
          "text": [
            "              precision    recall  f1-score   support\n",
            "\n",
            "    Negative       0.76      0.88      0.82       564\n",
            "    Positive       0.85      0.70      0.77       516\n",
            "\n",
            "    accuracy                           0.80      1080\n",
            "   macro avg       0.80      0.79      0.79      1080\n",
            "weighted avg       0.80      0.80      0.79      1080\n",
            "\n"
          ]
        }
      ]
    },
    {
      "cell_type": "markdown",
      "source": [
        "# Word2Vec - Skip Gram"
      ],
      "metadata": {
        "id": "47Tjr03OQoPD"
      }
    },
    {
      "cell_type": "code",
      "source": [
        "skip_model = Word2Vec(total_words, min_count=1, size=200, sg=1) # sg = 1 => Skip Gram"
      ],
      "metadata": {
        "id": "TWDgwqlZQ9b2"
      },
      "execution_count": 34,
      "outputs": []
    },
    {
      "cell_type": "code",
      "source": [
        "print(skip_model)"
      ],
      "metadata": {
        "colab": {
          "base_uri": "https://localhost:8080/"
        },
        "id": "s5NzCuT1RKAv",
        "outputId": "46349fe0-9a64-434b-f6db-6b6f11685b39"
      },
      "execution_count": 35,
      "outputs": [
        {
          "output_type": "stream",
          "name": "stdout",
          "text": [
            "Word2Vec(vocab=6034, size=200, alpha=0.025)\n"
          ]
        }
      ]
    },
    {
      "cell_type": "code",
      "source": [
        "skip_model.wv.most_similar(\"cepat\")"
      ],
      "metadata": {
        "colab": {
          "base_uri": "https://localhost:8080/"
        },
        "id": "JXLfGiIhRNgy",
        "outputId": "1b360402-603a-477e-91a1-ea09898eff76"
      },
      "execution_count": 36,
      "outputs": [
        {
          "output_type": "execute_result",
          "data": {
            "text/plain": [
              "[('ramah', 0.9955316185951233),\n",
              " ('fast', 0.9904720783233643),\n",
              " ('respon', 0.9876251220703125),\n",
              " ('top', 0.9872270822525024),\n",
              " ('aman', 0.9846023321151733),\n",
              " ('recommended', 0.9836846590042114),\n",
              " ('packaging', 0.9835966229438782),\n",
              " ('packing', 0.982522189617157),\n",
              " ('seller', 0.9822536706924438),\n",
              " ('pesan', 0.976434051990509)]"
            ]
          },
          "metadata": {},
          "execution_count": 36
        }
      ]
    },
    {
      "cell_type": "markdown",
      "source": [
        "Getting the average weight of each review"
      ],
      "metadata": {
        "id": "TLWfjUPoRdhW"
      }
    },
    {
      "cell_type": "code",
      "source": [
        "dataset['Skip_Vector'] = ''     # Creating a new column for the vector of the sentence\n",
        "\n",
        "for i, sentence in enumerate(total_words):\n",
        "  result_skip = np.mean(skip_model[sentence], axis=0)   # Getting the average weight of every word in the sentence\n",
        "\n",
        "  dataset.at[i, 'Skip_Vector'] = result_skip\n",
        "\n",
        "dataset.head(3)"
      ],
      "metadata": {
        "colab": {
          "base_uri": "https://localhost:8080/",
          "height": 143
        },
        "id": "j-VZZnW2Radj",
        "outputId": "ab0d4705-98b1-48df-f62a-c129403d6a50"
      },
      "execution_count": 37,
      "outputs": [
        {
          "output_type": "execute_result",
          "data": {
            "text/plain": [
              "                                              Review Sentiment  \\\n",
              "0  alhamdulillah fungsi packaging aman respon cep...  Positive   \n",
              "1                     bagus respon cepat harga saing  Positive   \n",
              "2               bagus fungsi seler ramah kirim cepat  Positive   \n",
              "\n",
              "                                         CBOW_Vector  \\\n",
              "0  [0.24412672, 0.3053858, 0.31725416, 0.22196841...   \n",
              "1  [0.24338767, 0.30671293, 0.31690058, 0.2235398...   \n",
              "2  [0.26488748, 0.33392945, 0.34541798, 0.2415915...   \n",
              "\n",
              "                                         Skip_Vector  \n",
              "0  [0.18981199, 0.1245604, 0.312941, 0.26716357, ...  \n",
              "1  [0.17300352, 0.12647057, 0.29801756, 0.2599778...  \n",
              "2  [0.1747336, 0.12399447, 0.28861442, 0.24650504...  "
            ],
            "text/html": [
              "\n",
              "  <div id=\"df-2ba98a28-3c24-42fd-ada0-5801476593cf\">\n",
              "    <div class=\"colab-df-container\">\n",
              "      <div>\n",
              "<style scoped>\n",
              "    .dataframe tbody tr th:only-of-type {\n",
              "        vertical-align: middle;\n",
              "    }\n",
              "\n",
              "    .dataframe tbody tr th {\n",
              "        vertical-align: top;\n",
              "    }\n",
              "\n",
              "    .dataframe thead th {\n",
              "        text-align: right;\n",
              "    }\n",
              "</style>\n",
              "<table border=\"1\" class=\"dataframe\">\n",
              "  <thead>\n",
              "    <tr style=\"text-align: right;\">\n",
              "      <th></th>\n",
              "      <th>Review</th>\n",
              "      <th>Sentiment</th>\n",
              "      <th>CBOW_Vector</th>\n",
              "      <th>Skip_Vector</th>\n",
              "    </tr>\n",
              "  </thead>\n",
              "  <tbody>\n",
              "    <tr>\n",
              "      <th>0</th>\n",
              "      <td>alhamdulillah fungsi packaging aman respon cep...</td>\n",
              "      <td>Positive</td>\n",
              "      <td>[0.24412672, 0.3053858, 0.31725416, 0.22196841...</td>\n",
              "      <td>[0.18981199, 0.1245604, 0.312941, 0.26716357, ...</td>\n",
              "    </tr>\n",
              "    <tr>\n",
              "      <th>1</th>\n",
              "      <td>bagus respon cepat harga saing</td>\n",
              "      <td>Positive</td>\n",
              "      <td>[0.24338767, 0.30671293, 0.31690058, 0.2235398...</td>\n",
              "      <td>[0.17300352, 0.12647057, 0.29801756, 0.2599778...</td>\n",
              "    </tr>\n",
              "    <tr>\n",
              "      <th>2</th>\n",
              "      <td>bagus fungsi seler ramah kirim cepat</td>\n",
              "      <td>Positive</td>\n",
              "      <td>[0.26488748, 0.33392945, 0.34541798, 0.2415915...</td>\n",
              "      <td>[0.1747336, 0.12399447, 0.28861442, 0.24650504...</td>\n",
              "    </tr>\n",
              "  </tbody>\n",
              "</table>\n",
              "</div>\n",
              "      <button class=\"colab-df-convert\" onclick=\"convertToInteractive('df-2ba98a28-3c24-42fd-ada0-5801476593cf')\"\n",
              "              title=\"Convert this dataframe to an interactive table.\"\n",
              "              style=\"display:none;\">\n",
              "        \n",
              "  <svg xmlns=\"http://www.w3.org/2000/svg\" height=\"24px\"viewBox=\"0 0 24 24\"\n",
              "       width=\"24px\">\n",
              "    <path d=\"M0 0h24v24H0V0z\" fill=\"none\"/>\n",
              "    <path d=\"M18.56 5.44l.94 2.06.94-2.06 2.06-.94-2.06-.94-.94-2.06-.94 2.06-2.06.94zm-11 1L8.5 8.5l.94-2.06 2.06-.94-2.06-.94L8.5 2.5l-.94 2.06-2.06.94zm10 10l.94 2.06.94-2.06 2.06-.94-2.06-.94-.94-2.06-.94 2.06-2.06.94z\"/><path d=\"M17.41 7.96l-1.37-1.37c-.4-.4-.92-.59-1.43-.59-.52 0-1.04.2-1.43.59L10.3 9.45l-7.72 7.72c-.78.78-.78 2.05 0 2.83L4 21.41c.39.39.9.59 1.41.59.51 0 1.02-.2 1.41-.59l7.78-7.78 2.81-2.81c.8-.78.8-2.07 0-2.86zM5.41 20L4 18.59l7.72-7.72 1.47 1.35L5.41 20z\"/>\n",
              "  </svg>\n",
              "      </button>\n",
              "      \n",
              "  <style>\n",
              "    .colab-df-container {\n",
              "      display:flex;\n",
              "      flex-wrap:wrap;\n",
              "      gap: 12px;\n",
              "    }\n",
              "\n",
              "    .colab-df-convert {\n",
              "      background-color: #E8F0FE;\n",
              "      border: none;\n",
              "      border-radius: 50%;\n",
              "      cursor: pointer;\n",
              "      display: none;\n",
              "      fill: #1967D2;\n",
              "      height: 32px;\n",
              "      padding: 0 0 0 0;\n",
              "      width: 32px;\n",
              "    }\n",
              "\n",
              "    .colab-df-convert:hover {\n",
              "      background-color: #E2EBFA;\n",
              "      box-shadow: 0px 1px 2px rgba(60, 64, 67, 0.3), 0px 1px 3px 1px rgba(60, 64, 67, 0.15);\n",
              "      fill: #174EA6;\n",
              "    }\n",
              "\n",
              "    [theme=dark] .colab-df-convert {\n",
              "      background-color: #3B4455;\n",
              "      fill: #D2E3FC;\n",
              "    }\n",
              "\n",
              "    [theme=dark] .colab-df-convert:hover {\n",
              "      background-color: #434B5C;\n",
              "      box-shadow: 0px 1px 3px 1px rgba(0, 0, 0, 0.15);\n",
              "      filter: drop-shadow(0px 1px 2px rgba(0, 0, 0, 0.3));\n",
              "      fill: #FFFFFF;\n",
              "    }\n",
              "  </style>\n",
              "\n",
              "      <script>\n",
              "        const buttonEl =\n",
              "          document.querySelector('#df-2ba98a28-3c24-42fd-ada0-5801476593cf button.colab-df-convert');\n",
              "        buttonEl.style.display =\n",
              "          google.colab.kernel.accessAllowed ? 'block' : 'none';\n",
              "\n",
              "        async function convertToInteractive(key) {\n",
              "          const element = document.querySelector('#df-2ba98a28-3c24-42fd-ada0-5801476593cf');\n",
              "          const dataTable =\n",
              "            await google.colab.kernel.invokeFunction('convertToInteractive',\n",
              "                                                     [key], {});\n",
              "          if (!dataTable) return;\n",
              "\n",
              "          const docLinkHtml = 'Like what you see? Visit the ' +\n",
              "            '<a target=\"_blank\" href=https://colab.research.google.com/notebooks/data_table.ipynb>data table notebook</a>'\n",
              "            + ' to learn more about interactive tables.';\n",
              "          element.innerHTML = '';\n",
              "          dataTable['output_type'] = 'display_data';\n",
              "          await google.colab.output.renderOutput(dataTable, element);\n",
              "          const docLink = document.createElement('div');\n",
              "          docLink.innerHTML = docLinkHtml;\n",
              "          element.appendChild(docLink);\n",
              "        }\n",
              "      </script>\n",
              "    </div>\n",
              "  </div>\n",
              "  "
            ]
          },
          "metadata": {},
          "execution_count": 37
        }
      ]
    },
    {
      "cell_type": "markdown",
      "source": [
        "Reshaping the data"
      ],
      "metadata": {
        "id": "R2NQKbhfSHF3"
      }
    },
    {
      "cell_type": "code",
      "source": [
        "y_skip = dataset['Sentiment']\n",
        "\n",
        "x_skip = dataset['Skip_Vector'].to_numpy()\n",
        "x_skip = x_skip.reshape(-1, 1)\n",
        "x_skip = np.concatenate(np.concatenate(x_skip, axis=0), axis=0).reshape(-1, 200)\n",
        "x_skip.shape"
      ],
      "metadata": {
        "colab": {
          "base_uri": "https://localhost:8080/"
        },
        "id": "s7Z9ClrRRwTq",
        "outputId": "ba93009b-5a69-4f45-a6e6-9cf2a6990989"
      },
      "execution_count": 38,
      "outputs": [
        {
          "output_type": "execute_result",
          "data": {
            "text/plain": [
              "(5400, 200)"
            ]
          },
          "metadata": {},
          "execution_count": 38
        }
      ]
    },
    {
      "cell_type": "code",
      "source": [
        "print(x_skip)"
      ],
      "metadata": {
        "id": "dD6tmPIUTkqv",
        "outputId": "b36613d4-f9c9-4904-d33d-684a102cd6dc",
        "colab": {
          "base_uri": "https://localhost:8080/"
        }
      },
      "execution_count": 39,
      "outputs": [
        {
          "output_type": "stream",
          "name": "stdout",
          "text": [
            "[[ 0.18981199  0.1245604   0.312941   ... -0.01208848  0.22262302\n",
            "   0.22244008]\n",
            " [ 0.17300352  0.12647057  0.29801756 ... -0.00518916  0.19281009\n",
            "   0.21303567]\n",
            " [ 0.1747336   0.12399447  0.28861442 ... -0.0058835   0.19648576\n",
            "   0.20410909]\n",
            " ...\n",
            " [ 0.17748313  0.1335701   0.21363546 ...  0.0175796   0.18358423\n",
            "   0.15991686]\n",
            " [ 0.13579607  0.10868038  0.14261226 ...  0.02553705  0.12679917\n",
            "   0.11407246]\n",
            " [ 0.18678714  0.13317144  0.26808748 ...  0.0041088   0.2048163\n",
            "   0.19390972]]\n"
          ]
        }
      ]
    },
    {
      "cell_type": "markdown",
      "source": [
        "Splitting the train and test"
      ],
      "metadata": {
        "id": "JMpsEVQvSH9G"
      }
    },
    {
      "cell_type": "code",
      "source": [
        "x_train_skip, x_test_skip, y_train_skip, y_test_skip = model_selection.train_test_split(x_skip, y_skip, test_size=0.2, random_state=100, stratify=y_skip)"
      ],
      "metadata": {
        "id": "cW6N5FbuSMZB"
      },
      "execution_count": 40,
      "outputs": []
    },
    {
      "cell_type": "code",
      "source": [
        "print('train shape = ' + str(x_train_skip.shape))\n",
        "print('train sentiment = ')\n",
        "print(str(y_train_skip.value_counts()))\n",
        "\n",
        "print()\n",
        "\n",
        "print('test shape = ' + str(x_test_skip.shape))\n",
        "print('test sentiment = ')\n",
        "print(str(y_test_skip.value_counts()))"
      ],
      "metadata": {
        "colab": {
          "base_uri": "https://localhost:8080/"
        },
        "id": "QFf9-QcySgJi",
        "outputId": "d68866d5-9bb5-400e-c254-cc5a685df7ea"
      },
      "execution_count": 41,
      "outputs": [
        {
          "output_type": "stream",
          "name": "stdout",
          "text": [
            "train shape = (4320, 200)\n",
            "train sentiment = \n",
            "Negative    2256\n",
            "Positive    2064\n",
            "Name: Sentiment, dtype: int64\n",
            "\n",
            "test shape = (1080, 200)\n",
            "test sentiment = \n",
            "Negative    564\n",
            "Positive    516\n",
            "Name: Sentiment, dtype: int64\n"
          ]
        }
      ]
    },
    {
      "cell_type": "markdown",
      "source": [
        "## Logistic Regression"
      ],
      "metadata": {
        "id": "5vsZxakFSpaP"
      }
    },
    {
      "cell_type": "code",
      "source": [
        "clf_skip = LogisticRegression(random_state=0).fit(x_train_skip, y_train_skip)\n",
        "clf_skip.score(x_train_skip, y_train_skip)"
      ],
      "metadata": {
        "colab": {
          "base_uri": "https://localhost:8080/"
        },
        "id": "E7X9F2VhSsFs",
        "outputId": "9cc56cd4-dfe5-4bbe-b49c-2cb0786f6c8d"
      },
      "execution_count": 42,
      "outputs": [
        {
          "output_type": "execute_result",
          "data": {
            "text/plain": [
              "0.8152777777777778"
            ]
          },
          "metadata": {},
          "execution_count": 42
        }
      ]
    },
    {
      "cell_type": "code",
      "source": [
        "plot_confusion_matrix(clf_skip, x_test_skip, y_test_skip)  \n",
        "plt.show()"
      ],
      "metadata": {
        "colab": {
          "base_uri": "https://localhost:8080/",
          "height": 279
        },
        "id": "wqk9mcrDnj9f",
        "outputId": "3300fb38-a10d-4681-8582-040db345f36c"
      },
      "execution_count": 43,
      "outputs": [
        {
          "output_type": "display_data",
          "data": {
            "text/plain": [
              "<Figure size 432x288 with 2 Axes>"
            ],
            "image/png": "[encoded data removed]"
          },
          "metadata": {
            "needs_background": "light"
          }
        }
      ]
    },
    {
      "cell_type": "code",
      "source": [
        "prediction_skip = clf_skip.predict(x_test_skip)\n",
        "print(classification_report(y_test_skip, prediction_skip))"
      ],
      "metadata": {
        "colab": {
          "base_uri": "https://localhost:8080/"
        },
        "id": "CG8OP4UNS5yg",
        "outputId": "6e2bd0ff-2677-4701-fdca-2649e7af96ef"
      },
      "execution_count": 44,
      "outputs": [
        {
          "output_type": "stream",
          "name": "stdout",
          "text": [
            "              precision    recall  f1-score   support\n",
            "\n",
            "    Negative       0.80      0.85      0.83       564\n",
            "    Positive       0.83      0.77      0.80       516\n",
            "\n",
            "    accuracy                           0.81      1080\n",
            "   macro avg       0.82      0.81      0.81      1080\n",
            "weighted avg       0.81      0.81      0.81      1080\n",
            "\n"
          ]
        }
      ]
    },
    {
      "cell_type": "markdown",
      "source": [
        "## SVM - Support Vector Machine"
      ],
      "metadata": {
        "id": "ZyaK42q-TFkg"
      }
    },
    {
      "cell_type": "code",
      "source": [
        "svc_skip = make_pipeline(StandardScaler(with_mean=False), SVC(gamma='auto'))\n",
        "svc_skip.fit(x_train_skip, y_train_skip)\n",
        "svc_skip.score(x_train_skip, y_train_skip)"
      ],
      "metadata": {
        "colab": {
          "base_uri": "https://localhost:8080/"
        },
        "id": "LaJHuwKZTEz4",
        "outputId": "15b78caa-510a-4be5-df88-9a887311884e"
      },
      "execution_count": 45,
      "outputs": [
        {
          "output_type": "execute_result",
          "data": {
            "text/plain": [
              "0.8511574074074074"
            ]
          },
          "metadata": {},
          "execution_count": 45
        }
      ]
    },
    {
      "cell_type": "code",
      "source": [
        "plot_confusion_matrix(svc_skip, x_test_skip, y_test_skip)  \n",
        "plt.show()"
      ],
      "metadata": {
        "colab": {
          "base_uri": "https://localhost:8080/",
          "height": 279
        },
        "id": "fE2zgxcEo2HC",
        "outputId": "a7dafb69-9228-4df6-ef6f-7ac9927b9d7a"
      },
      "execution_count": 46,
      "outputs": [
        {
          "output_type": "display_data",
          "data": {
            "text/plain": [
              "<Figure size 432x288 with 2 Axes>"
            ],
            "image/png": "[encoded data removed]"
          },
          "metadata": {
            "needs_background": "light"
          }
        }
      ]
    },
    {
      "cell_type": "code",
      "source": [
        "svc_skip_prediction = svc_skip.predict(x_test_skip)\n",
        "print(classification_report(y_test_skip, svc_skip_prediction))"
      ],
      "metadata": {
        "colab": {
          "base_uri": "https://localhost:8080/"
        },
        "id": "S1uw71E4TViT",
        "outputId": "5500cb8c-7005-46fb-98b9-66d8d004cc07"
      },
      "execution_count": 47,
      "outputs": [
        {
          "output_type": "stream",
          "name": "stdout",
          "text": [
            "              precision    recall  f1-score   support\n",
            "\n",
            "    Negative       0.85      0.86      0.85       564\n",
            "    Positive       0.84      0.83      0.84       516\n",
            "\n",
            "    accuracy                           0.85      1080\n",
            "   macro avg       0.85      0.85      0.85      1080\n",
            "weighted avg       0.85      0.85      0.85      1080\n",
            "\n"
          ]
        }
      ]
    }
  ]
}