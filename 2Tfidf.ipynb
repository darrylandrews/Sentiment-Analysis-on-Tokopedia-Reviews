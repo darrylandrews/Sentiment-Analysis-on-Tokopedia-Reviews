{
  "nbformat": 4,
  "nbformat_minor": 0,
  "metadata": {
    "colab": {
      "name": "Tfidf.ipynb",
      "provenance": [],
      "collapsed_sections": []
    },
    "kernelspec": {
      "name": "python3",
      "display_name": "Python 3"
    },
    "language_info": {
      "name": "python"
    }
  },
  "cells": [
    {
      "cell_type": "markdown",
      "source": [
        "# Initializing"
      ],
      "metadata": {
        "id": "QAUnHaITR7WX"
      }
    },
    {
      "cell_type": "markdown",
      "source": [
        "Importing Files from Gdrive"
      ],
      "metadata": {
        "id": "5LEX_0BsURB_"
      }
    },
    {
      "cell_type": "code",
      "source": [
        "from google.colab import drive\n",
        "drive.mount('/content/drive')   # To access gdrive files"
      ],
      "metadata": {
        "colab": {
          "base_uri": "https://localhost:8080/"
        },
        "id": "zLfBDlYXUOQb",
        "outputId": "1f1a1703-ba03-4bb9-f276-68e74030db8a"
      },
      "execution_count": null,
      "outputs": [
        {
          "output_type": "stream",
          "name": "stdout",
          "text": [
            "Mounted at /content/drive\n"
          ]
        }
      ]
    },
    {
      "cell_type": "markdown",
      "source": [
        "Import the necessary libraries"
      ],
      "metadata": {
        "id": "lAdRaUeFUSfQ"
      }
    },
    {
      "cell_type": "code",
      "execution_count": null,
      "metadata": {
        "id": "mLCvFbTmRRwO"
      },
      "outputs": [],
      "source": [
        "import numpy as np\n",
        "import pandas as pd\n",
        "import matplotlib.pyplot as plt\n",
        "\n",
        "from sklearn.feature_extraction.text import TfidfVectorizer\n",
        "from sklearn import model_selection\n",
        "from sklearn.metrics import classification_report\n",
        "from sklearn.metrics import plot_confusion_matrix\n",
        "from sklearn.pipeline import make_pipeline\n",
        "from sklearn.preprocessing import StandardScaler\n",
        "\n",
        "from sklearn.linear_model import LogisticRegression\n",
        "from sklearn.svm import SVC\n",
        "\n",
        "import warnings\n",
        "warnings.simplefilter(action='ignore', category=FutureWarning)"
      ]
    },
    {
      "cell_type": "markdown",
      "source": [
        "Initializing Dataset"
      ],
      "metadata": {
        "id": "p7_N6R-MVbSF"
      }
    },
    {
      "cell_type": "code",
      "source": [
        "dataset = pd.read_csv('/content/drive/MyDrive/TokopediaCleanedStemmedFIXED.csv')"
      ],
      "metadata": {
        "id": "VpiTYUrNVOmq"
      },
      "execution_count": null,
      "outputs": []
    },
    {
      "cell_type": "markdown",
      "source": [
        "Dataset Information"
      ],
      "metadata": {
        "id": "BlM-v5vCVcqj"
      }
    },
    {
      "cell_type": "code",
      "source": [
        "def check_dataset_information():\n",
        "  print('Total reviews: ' + str(len(dataset)))\n",
        "  print('Dataset Columns: ')\n",
        "  for columns in  dataset.columns:\n",
        "    print('- ' + columns)\n",
        "  print('Number of NULL dataset: ')\n",
        "  print(str(dataset.isnull().sum()))\n",
        "  print(dataset['Sentiment'].value_counts())"
      ],
      "metadata": {
        "id": "Jn0vHPk4VIUX"
      },
      "execution_count": null,
      "outputs": []
    },
    {
      "cell_type": "code",
      "source": [
        "check_dataset_information()"
      ],
      "metadata": {
        "colab": {
          "base_uri": "https://localhost:8080/"
        },
        "id": "Agm2Afc4Veiw",
        "outputId": "53d7c1ad-60f2-4daf-9044-dc6dd9c8a3bd"
      },
      "execution_count": null,
      "outputs": [
        {
          "output_type": "stream",
          "name": "stdout",
          "text": [
            "Total reviews: 5400\n",
            "Dataset Columns: \n",
            "- Unnamed: 0\n",
            "- Unnamed: 0.1\n",
            "- Review\n",
            "- Sentiment\n",
            "Number of NULL dataset: \n",
            "Unnamed: 0      0\n",
            "Unnamed: 0.1    0\n",
            "Review          0\n",
            "Sentiment       0\n",
            "dtype: int64\n",
            "Negative    2820\n",
            "Positive    2580\n",
            "Name: Sentiment, dtype: int64\n"
          ]
        }
      ]
    },
    {
      "cell_type": "markdown",
      "source": [
        "Removing Unnecessary Columns"
      ],
      "metadata": {
        "id": "jKqLiz5GVkYr"
      }
    },
    {
      "cell_type": "code",
      "source": [
        "useless_columns = ['Unnamed: 0', 'Unnamed: 0.1']\n",
        "dataset = dataset.drop(useless_columns, 1)\n",
        "check_dataset_information()"
      ],
      "metadata": {
        "colab": {
          "base_uri": "https://localhost:8080/"
        },
        "id": "kvg0LH8MVkHL",
        "outputId": "aaf2dff5-6083-4dad-e9e8-3fe3baeef8ae"
      },
      "execution_count": null,
      "outputs": [
        {
          "output_type": "stream",
          "name": "stdout",
          "text": [
            "Total reviews: 5400\n",
            "Dataset Columns: \n",
            "- Review\n",
            "- Sentiment\n",
            "Number of NULL dataset: \n",
            "Review       0\n",
            "Sentiment    0\n",
            "dtype: int64\n",
            "Negative    2820\n",
            "Positive    2580\n",
            "Name: Sentiment, dtype: int64\n"
          ]
        }
      ]
    },
    {
      "cell_type": "markdown",
      "source": [
        "# TF-IDF = Term Frequency–Inverse Document Frequency "
      ],
      "metadata": {
        "id": "sghcOSOOWQtr"
      }
    },
    {
      "cell_type": "code",
      "source": [
        "# Initializing the vectorizer\n",
        "vectorizer = TfidfVectorizer(analyzer='word', max_features=None, ngram_range=(1,1))   # ngram_range 1,1 = max only one word"
      ],
      "metadata": {
        "id": "Qmk33JvAWO3c"
      },
      "execution_count": null,
      "outputs": []
    },
    {
      "cell_type": "markdown",
      "source": [
        "Fitting our corpus into the vectorizer"
      ],
      "metadata": {
        "id": "k1nR5BNfYXMK"
      }
    },
    {
      "cell_type": "code",
      "source": [
        "corpus = dataset['Review'].astype('str')\n",
        "\n",
        "x = vectorizer.fit_transform(corpus)\n",
        "y = dataset.Sentiment.astype(str)"
      ],
      "metadata": {
        "id": "P15V2IGQXBYR"
      },
      "execution_count": null,
      "outputs": []
    },
    {
      "cell_type": "markdown",
      "source": [
        "Checking the shape"
      ],
      "metadata": {
        "id": "9MT6NlPIYclG"
      }
    },
    {
      "cell_type": "code",
      "source": [
        "x.get_shape()\n",
        "\n",
        "# 5400 = total reviews\n",
        "# 6016 = total corpus / unique words"
      ],
      "metadata": {
        "colab": {
          "base_uri": "https://localhost:8080/"
        },
        "id": "pl1qqTWcYCWV",
        "outputId": "d2d5f27b-88b3-43e0-eb4f-9cffbf56b78d"
      },
      "execution_count": null,
      "outputs": [
        {
          "output_type": "execute_result",
          "data": {
            "text/plain": [
              "(5400, 6016)"
            ]
          },
          "metadata": {},
          "execution_count": 9
        }
      ]
    },
    {
      "cell_type": "code",
      "source": [
        "print(x)"
      ],
      "metadata": {
        "colab": {
          "base_uri": "https://localhost:8080/"
        },
        "id": "kFWjAHfz5RQS",
        "outputId": "33673c73-685c-4bf6-8255-f590550a7883"
      },
      "execution_count": null,
      "outputs": [
        {
          "output_type": "stream",
          "name": "stdout",
          "text": [
            "  (0, 148)\t0.41831194635355934\n",
            "  (0, 2917)\t0.36005271972160546\n",
            "  (0, 4933)\t0.24450702499899976\n",
            "  (0, 4465)\t0.32417697106404547\n",
            "  (0, 1009)\t0.20125437717688108\n",
            "  (0, 4631)\t0.26497048509286414\n",
            "  (0, 146)\t0.2616340183945026\n",
            "  (0, 3963)\t0.3284604713456712\n",
            "  (0, 1842)\t0.2869229705437675\n",
            "  (0, 123)\t0.40140583773796096\n",
            "  (1, 4749)\t0.7250565884534412\n",
            "  (1, 2108)\t0.3717316400133428\n",
            "  (1, 343)\t0.30583975041050415\n",
            "  (1, 1009)\t0.297896712376091\n",
            "  (1, 4631)\t0.39220929001950533\n",
            "  (2, 2758)\t0.23133538229504894\n",
            "  (2, 4925)\t0.6823690399663865\n",
            "  (2, 343)\t0.27542835039451724\n",
            "  (2, 4465)\t0.4321328143462051\n",
            "  (2, 1009)\t0.26827513417588345\n",
            "  (2, 1842)\t0.3824726671813955\n",
            "  (3, 3008)\t0.5913474699752201\n",
            "  (3, 2563)\t0.25088586384910266\n",
            "  (3, 5512)\t0.2493175760008234\n",
            "  (3, 2458)\t0.2999948880970615\n",
            "  :\t:\n",
            "  (5397, 912)\t0.29063240867430107\n",
            "  (5397, 2995)\t0.3400079071777807\n",
            "  (5397, 5834)\t0.3919504932828428\n",
            "  (5397, 1657)\t0.30856353204845577\n",
            "  (5397, 4925)\t0.40126523189983293\n",
            "  (5397, 4631)\t0.2077039731044365\n",
            "  (5397, 1842)\t0.22491199703235415\n",
            "  (5398, 3631)\t0.6228953856661131\n",
            "  (5398, 3622)\t0.5854423319448807\n",
            "  (5398, 2362)\t0.41374425224457817\n",
            "  (5398, 4051)\t0.31316817880713754\n",
            "  (5399, 3119)\t0.40643050498138134\n",
            "  (5399, 4568)\t0.35989555504741133\n",
            "  (5399, 118)\t0.3564227740698934\n",
            "  (5399, 5623)\t0.23562185368716454\n",
            "  (5399, 1303)\t0.24819594610431642\n",
            "  (5399, 4362)\t0.20030470589296379\n",
            "  (5399, 3968)\t0.20934288950748964\n",
            "  (5399, 4643)\t0.3226758027342473\n",
            "  (5399, 1100)\t0.27631418699021676\n",
            "  (5399, 2458)\t0.21046980200993468\n",
            "  (5399, 2758)\t0.1439931211662015\n",
            "  (5399, 1009)\t0.1669860162246945\n",
            "  (5399, 146)\t0.21708458247423995\n",
            "  (5399, 1842)\t0.23806748696128713\n"
          ]
        }
      ]
    },
    {
      "cell_type": "markdown",
      "source": [
        "Split the dataset (train = 80: test = 20)"
      ],
      "metadata": {
        "id": "8BE_tYe0Yuxg"
      }
    },
    {
      "cell_type": "code",
      "source": [
        "x_train, x_test, y_train, y_test = model_selection.train_test_split(x, y, test_size=.2, random_state=100, stratify=y)\n",
        "\n",
        "print('train shape = ' + str(x_train.get_shape()))\n",
        "print('train sentiment = ')\n",
        "print(str(y_train.value_counts()))\n",
        "\n",
        "print()\n",
        "\n",
        "print('test shape = ' + str(x_test.get_shape()))\n",
        "print('test sentiment = ')\n",
        "print(str(y_test.value_counts()))"
      ],
      "metadata": {
        "colab": {
          "base_uri": "https://localhost:8080/"
        },
        "id": "03a6GVuCYuZu",
        "outputId": "a64fcc42-b188-4367-a9ac-4a31493268e4"
      },
      "execution_count": null,
      "outputs": [
        {
          "output_type": "stream",
          "name": "stdout",
          "text": [
            "train shape = (4320, 6016)\n",
            "train sentiment = \n",
            "Negative    2256\n",
            "Positive    2064\n",
            "Name: Sentiment, dtype: int64\n",
            "\n",
            "test shape = (1080, 6016)\n",
            "test sentiment = \n",
            "Negative    564\n",
            "Positive    516\n",
            "Name: Sentiment, dtype: int64\n"
          ]
        }
      ]
    },
    {
      "cell_type": "markdown",
      "source": [
        "# Logistic Regression"
      ],
      "metadata": {
        "id": "idQwDibBYoj6"
      }
    },
    {
      "cell_type": "markdown",
      "source": [
        "Initializing and fitting training dataset"
      ],
      "metadata": {
        "id": "Nf-kXMPYaFqZ"
      }
    },
    {
      "cell_type": "code",
      "source": [
        "clf = LogisticRegression(random_state=0).fit(x_train, y_train)\n",
        "clf.score(x_train, y_train)"
      ],
      "metadata": {
        "colab": {
          "base_uri": "https://localhost:8080/"
        },
        "id": "Td6WbSNqYsKD",
        "outputId": "4e79edc2-e75d-42c7-d2f0-a37aa6f4c3ba"
      },
      "execution_count": null,
      "outputs": [
        {
          "output_type": "execute_result",
          "data": {
            "text/plain": [
              "0.9335648148148148"
            ]
          },
          "metadata": {},
          "execution_count": 11
        }
      ]
    },
    {
      "cell_type": "code",
      "source": [
        "plot_confusion_matrix(clf, x_test, y_test)  \n",
        "plt.show()"
      ],
      "metadata": {
        "colab": {
          "base_uri": "https://localhost:8080/",
          "height": 279
        },
        "id": "wRyrgzv3qhS9",
        "outputId": "490d76e0-7898-4198-a630-b8ef65cc2b22"
      },
      "execution_count": null,
      "outputs": [
        {
          "output_type": "display_data",
          "data": {
            "text/plain": [
              "<Figure size 432x288 with 2 Axes>"
            ],
            "image/png": "[encoded data removed]"
          },
          "metadata": {
            "needs_background": "light"
          }
        }
      ]
    },
    {
      "cell_type": "markdown",
      "source": [
        "Checking the accuracy on the test dataset"
      ],
      "metadata": {
        "id": "21vZHse6aRtv"
      }
    },
    {
      "cell_type": "code",
      "source": [
        "tfidf_result = clf.predict(x_test)\n",
        "print(classification_report(y_test, tfidf_result))"
      ],
      "metadata": {
        "colab": {
          "base_uri": "https://localhost:8080/"
        },
        "id": "7l-4Yz3BaQje",
        "outputId": "cae3c729-b453-476f-fc51-ec453859888e"
      },
      "execution_count": null,
      "outputs": [
        {
          "output_type": "stream",
          "name": "stdout",
          "text": [
            "              precision    recall  f1-score   support\n",
            "\n",
            "    Negative       0.86      0.94      0.90       564\n",
            "    Positive       0.93      0.84      0.88       516\n",
            "\n",
            "    accuracy                           0.89      1080\n",
            "   macro avg       0.90      0.89      0.89      1080\n",
            "weighted avg       0.89      0.89      0.89      1080\n",
            "\n"
          ]
        }
      ]
    },
    {
      "cell_type": "markdown",
      "source": [
        "# SVM - Support Vector Machine"
      ],
      "metadata": {
        "id": "14dd-p3_bJEG"
      }
    },
    {
      "cell_type": "code",
      "source": [
        "svc = make_pipeline(StandardScaler(with_mean=False), SVC(gamma='auto'))\n",
        "svc.fit(x_train, y_train)\n",
        "svc.score(x_train, y_train)"
      ],
      "metadata": {
        "colab": {
          "base_uri": "https://localhost:8080/"
        },
        "id": "ipRmAofobOYh",
        "outputId": "4aa0d486-b888-4c77-d5b7-8a92674a2a54"
      },
      "execution_count": null,
      "outputs": [
        {
          "output_type": "execute_result",
          "data": {
            "text/plain": [
              "0.9740740740740741"
            ]
          },
          "metadata": {},
          "execution_count": 14
        }
      ]
    },
    {
      "cell_type": "code",
      "source": [
        "plot_confusion_matrix(svc, x_test, y_test)  \n",
        "plt.show()"
      ],
      "metadata": {
        "id": "i-z35-aJrj2x",
        "outputId": "6c434ed5-f280-4de3-b79c-6c2914e445a0",
        "colab": {
          "base_uri": "https://localhost:8080/",
          "height": 279
        }
      },
      "execution_count": null,
      "outputs": [
        {
          "output_type": "display_data",
          "data": {
            "text/plain": [
              "<Figure size 432x288 with 2 Axes>"
            ],
            "image/png": "[encoded data removed]"
          },
          "metadata": {
            "needs_background": "light"
          }
        }
      ]
    },
    {
      "cell_type": "code",
      "source": [
        "svc_result = svc.predict(x_test)\n",
        "print(classification_report(y_test, svc_result))"
      ],
      "metadata": {
        "colab": {
          "base_uri": "https://localhost:8080/"
        },
        "id": "MCWo9LYccE0I",
        "outputId": "8200e518-b093-4de1-ccf9-8c97f4a742b5"
      },
      "execution_count": null,
      "outputs": [
        {
          "output_type": "stream",
          "name": "stdout",
          "text": [
            "              precision    recall  f1-score   support\n",
            "\n",
            "    Negative       0.80      0.92      0.86       564\n",
            "    Positive       0.90      0.76      0.82       516\n",
            "\n",
            "    accuracy                           0.84      1080\n",
            "   macro avg       0.85      0.84      0.84      1080\n",
            "weighted avg       0.85      0.84      0.84      1080\n",
            "\n"
          ]
        }
      ]
    }
  ]
}